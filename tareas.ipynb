{
 "cells": [
  {
   "cell_type": "code",
   "execution_count": 22,
   "id": "e1f32b35",
   "metadata": {},
   "outputs": [],
   "source": [
    "import pandas as pd\n",
    "import matplotlib as plt\n",
    "\n",
    "orders = pd.read_csv('./Olist_Data/olist_orders_dataset.csv')\n",
    "costumers = pd.read_csv('./Olist_Data/olist_customers_dataset.csv')"
   ]
  },
  {
   "cell_type": "code",
   "execution_count": 23,
   "id": "dff41607",
   "metadata": {},
   "outputs": [
    {
     "name": "stdout",
     "output_type": "stream",
     "text": [
      "<class 'pandas.core.frame.DataFrame'>\n",
      "RangeIndex: 99441 entries, 0 to 99440\n",
      "Data columns (total 8 columns):\n",
      " #   Column                         Non-Null Count  Dtype \n",
      "---  ------                         --------------  ----- \n",
      " 0   order_id                       99441 non-null  object\n",
      " 1   customer_id                    99441 non-null  object\n",
      " 2   order_status                   99441 non-null  object\n",
      " 3   order_purchase_timestamp       99441 non-null  object\n",
      " 4   order_approved_at              99281 non-null  object\n",
      " 5   order_delivered_carrier_date   97658 non-null  object\n",
      " 6   order_delivered_customer_date  96476 non-null  object\n",
      " 7   order_estimated_delivery_date  99441 non-null  object\n",
      "dtypes: object(8)\n",
      "memory usage: 6.1+ MB\n"
     ]
    }
   ],
   "source": [
    "orders.info()"
   ]
  },
  {
   "cell_type": "code",
   "execution_count": 24,
   "id": "ba5e811e",
   "metadata": {},
   "outputs": [
    {
     "name": "stdout",
     "output_type": "stream",
     "text": [
      "<class 'pandas.core.frame.DataFrame'>\n",
      "RangeIndex: 99441 entries, 0 to 99440\n",
      "Data columns (total 5 columns):\n",
      " #   Column                    Non-Null Count  Dtype \n",
      "---  ------                    --------------  ----- \n",
      " 0   customer_id               99441 non-null  object\n",
      " 1   customer_unique_id        99441 non-null  object\n",
      " 2   customer_zip_code_prefix  99441 non-null  int64 \n",
      " 3   customer_city             99441 non-null  object\n",
      " 4   customer_state            99441 non-null  object\n",
      "dtypes: int64(1), object(4)\n",
      "memory usage: 3.8+ MB\n"
     ]
    }
   ],
   "source": [
    "costumers.info()"
   ]
  },
  {
   "cell_type": "code",
   "execution_count": 25,
   "id": "399f27f5",
   "metadata": {},
   "outputs": [
    {
     "name": "stdout",
     "output_type": "stream",
     "text": [
      "<class 'pandas.core.frame.DataFrame'>\n",
      "RangeIndex: 99441 entries, 0 to 99440\n",
      "Data columns (total 12 columns):\n",
      " #   Column                         Non-Null Count  Dtype \n",
      "---  ------                         --------------  ----- \n",
      " 0   order_id                       99441 non-null  object\n",
      " 1   customer_id                    99441 non-null  object\n",
      " 2   order_status                   99441 non-null  object\n",
      " 3   order_purchase_timestamp       99441 non-null  object\n",
      " 4   order_approved_at              99281 non-null  object\n",
      " 5   order_delivered_carrier_date   97658 non-null  object\n",
      " 6   order_delivered_customer_date  96476 non-null  object\n",
      " 7   order_estimated_delivery_date  99441 non-null  object\n",
      " 8   customer_unique_id             99441 non-null  object\n",
      " 9   customer_zip_code_prefix       99441 non-null  int64 \n",
      " 10  customer_city                  99441 non-null  object\n",
      " 11  customer_state                 99441 non-null  object\n",
      "dtypes: int64(1), object(11)\n",
      "memory usage: 9.1+ MB\n"
     ]
    }
   ],
   "source": [
    "# mezclar ambos dataframes por 'customer_id'\n",
    "df_costumer_orders = pd.merge(orders, costumers, on='customer_id')\n",
    "df_costumer_orders.info()"
   ]
  },
  {
   "cell_type": "code",
   "execution_count": 26,
   "id": "6bbdcf21",
   "metadata": {},
   "outputs": [
    {
     "data": {
      "application/vnd.microsoft.datawrangler.viewer.v0+json": {
       "columns": [
        {
         "name": "index",
         "rawType": "int64",
         "type": "integer"
        },
        {
         "name": "order_id",
         "rawType": "object",
         "type": "string"
        },
        {
         "name": "customer_id",
         "rawType": "object",
         "type": "string"
        },
        {
         "name": "order_status",
         "rawType": "object",
         "type": "string"
        },
        {
         "name": "order_purchase_timestamp",
         "rawType": "object",
         "type": "string"
        },
        {
         "name": "order_approved_at",
         "rawType": "object",
         "type": "unknown"
        },
        {
         "name": "order_delivered_carrier_date",
         "rawType": "object",
         "type": "unknown"
        },
        {
         "name": "order_delivered_customer_date",
         "rawType": "object",
         "type": "unknown"
        },
        {
         "name": "order_estimated_delivery_date",
         "rawType": "object",
         "type": "string"
        },
        {
         "name": "customer_unique_id",
         "rawType": "object",
         "type": "string"
        },
        {
         "name": "customer_zip_code_prefix",
         "rawType": "int64",
         "type": "integer"
        },
        {
         "name": "customer_city",
         "rawType": "object",
         "type": "string"
        },
        {
         "name": "customer_state",
         "rawType": "object",
         "type": "string"
        }
       ],
       "conversionMethod": "pd.DataFrame",
       "ref": "1ddba78c-a854-4847-b1c6-88d21c713b36",
       "rows": [
        [
         "0",
         "e481f51cbdc54678b7cc49136f2d6af7",
         "9ef432eb6251297304e76186b10a928d",
         "delivered",
         "2017-10-02 10:56:33",
         "2017-10-02 11:07:15",
         "2017-10-04 19:55:00",
         "2017-10-10 21:25:13",
         "2017-10-18 00:00:00",
         "7c396fd4830fd04220f754e42b4e5bff",
         "3149",
         "sao paulo",
         "SP"
        ],
        [
         "1",
         "53cdb2fc8bc7dce0b6741e2150273451",
         "b0830fb4747a6c6d20dea0b8c802d7ef",
         "delivered",
         "2018-07-24 20:41:37",
         "2018-07-26 03:24:27",
         "2018-07-26 14:31:00",
         "2018-08-07 15:27:45",
         "2018-08-13 00:00:00",
         "af07308b275d755c9edb36a90c618231",
         "47813",
         "barreiras",
         "BA"
        ],
        [
         "2",
         "47770eb9100c2d0c44946d9cf07ec65d",
         "41ce2a54c0b03bf3443c3d931a367089",
         "delivered",
         "2018-08-08 08:38:49",
         "2018-08-08 08:55:23",
         "2018-08-08 13:50:00",
         "2018-08-17 18:06:29",
         "2018-09-04 00:00:00",
         "3a653a41f6f9fc3d2a113cf8398680e8",
         "75265",
         "vianopolis",
         "GO"
        ],
        [
         "3",
         "949d5b44dbf5de918fe9c16f97b45f8a",
         "f88197465ea7920adcdbec7375364d82",
         "delivered",
         "2017-11-18 19:28:06",
         "2017-11-18 19:45:59",
         "2017-11-22 13:39:59",
         "2017-12-02 00:28:42",
         "2017-12-15 00:00:00",
         "7c142cf63193a1473d2e66489a9ae977",
         "59296",
         "sao goncalo do amarante",
         "RN"
        ],
        [
         "4",
         "ad21c59c0840e6cb83a9ceb5573f8159",
         "8ab97904e6daea8866dbdbc4fb7aad2c",
         "delivered",
         "2018-02-13 21:18:39",
         "2018-02-13 22:20:29",
         "2018-02-14 19:46:34",
         "2018-02-16 18:17:02",
         "2018-02-26 00:00:00",
         "72632f0f9dd73dfee390c9b22eb56dd6",
         "9195",
         "santo andre",
         "SP"
        ],
        [
         "5",
         "a4591c265e18cb1dcee52889e2d8acc3",
         "503740e9ca751ccdda7ba28e9ab8f608",
         "delivered",
         "2017-07-09 21:57:05",
         "2017-07-09 22:10:13",
         "2017-07-11 14:58:04",
         "2017-07-26 10:57:55",
         "2017-08-01 00:00:00",
         "80bb27c7c16e8f973207a5086ab329e2",
         "86320",
         "congonhinhas",
         "PR"
        ],
        [
         "6",
         "136cce7faa42fdb2cefd53fdc79a6098",
         "ed0271e0b7da060a393796590e7b737a",
         "invoiced",
         "2017-04-11 12:22:08",
         "2017-04-13 13:25:17",
         null,
         null,
         "2017-05-09 00:00:00",
         "36edbb3fb164b1f16485364b6fb04c73",
         "98900",
         "santa rosa",
         "RS"
        ],
        [
         "7",
         "6514b8ad8028c9f2cc2374ded245783f",
         "9bdf08b4b3b52b5526ff42d37d47f222",
         "delivered",
         "2017-05-16 13:10:30",
         "2017-05-16 13:22:11",
         "2017-05-22 10:07:46",
         "2017-05-26 12:55:51",
         "2017-06-07 00:00:00",
         "932afa1e708222e5821dac9cd5db4cae",
         "26525",
         "nilopolis",
         "RJ"
        ],
        [
         "8",
         "76c6e866289321a7c93b82b54852dc33",
         "f54a9f0e6b351c431402b8461ea51999",
         "delivered",
         "2017-01-23 18:29:09",
         "2017-01-25 02:50:47",
         "2017-01-26 14:16:31",
         "2017-02-02 14:08:10",
         "2017-03-06 00:00:00",
         "39382392765b6dc74812866ee5ee92a7",
         "99655",
         "faxinalzinho",
         "RS"
        ],
        [
         "9",
         "e69bfb5eb88e0ed6a785585b27e16dbf",
         "31ad1d1b63eb9962463f764d4e6e0c9d",
         "delivered",
         "2017-07-29 11:55:02",
         "2017-07-29 12:05:32",
         "2017-08-10 19:45:24",
         "2017-08-16 17:14:30",
         "2017-08-23 00:00:00",
         "299905e3934e9e181bfb2e164dd4b4f8",
         "18075",
         "sorocaba",
         "SP"
        ],
        [
         "10",
         "e6ce16cb79ec1d90b1da9085a6118aeb",
         "494dded5b201313c64ed7f100595b95c",
         "delivered",
         "2017-05-16 19:41:10",
         "2017-05-16 19:50:18",
         "2017-05-18 11:40:40",
         "2017-05-29 11:18:31",
         "2017-06-07 00:00:00",
         "f2a85dec752b8517b5e58a06ff3cd937",
         "20780",
         "rio de janeiro",
         "RJ"
        ],
        [
         "11",
         "34513ce0c4fab462a55830c0989c7edb",
         "7711cf624183d843aafe81855097bc37",
         "delivered",
         "2017-07-13 19:58:11",
         "2017-07-13 20:10:08",
         "2017-07-14 18:43:29",
         "2017-07-19 14:04:48",
         "2017-08-08 00:00:00",
         "782987b81c92239d922aa49d6bd4200b",
         "4278",
         "sao paulo",
         "SP"
        ],
        [
         "12",
         "82566a660a982b15fb86e904c8d32918",
         "d3e3b74c766bc6214e0c830b17ee2341",
         "delivered",
         "2018-06-07 10:06:19",
         "2018-06-09 03:13:12",
         "2018-06-11 13:29:00",
         "2018-06-19 12:05:52",
         "2018-07-18 00:00:00",
         "e97109680b052ee858d93a539597bba7",
         "35400",
         "ouro preto",
         "MG"
        ],
        [
         "13",
         "5ff96c15d0b717ac6ad1f3d77225a350",
         "19402a48fe860416adf93348aba37740",
         "delivered",
         "2018-07-25 17:44:10",
         "2018-07-25 17:55:14",
         "2018-07-26 13:16:00",
         "2018-07-30 15:52:25",
         "2018-08-08 00:00:00",
         "e2dfa3127fedbbca9707b36304996dab",
         "4812",
         "sao paulo",
         "SP"
        ],
        [
         "14",
         "432aaf21d85167c2c86ec9448c4e42cc",
         "3df704f53d3f1d4818840b34ec672a9f",
         "delivered",
         "2018-03-01 14:14:28",
         "2018-03-01 15:10:47",
         "2018-03-02 21:09:20",
         "2018-03-12 23:36:26",
         "2018-03-21 00:00:00",
         "04cf8185c71090d28baa4407b2e6d600",
         "5271",
         "sao paulo",
         "SP"
        ],
        [
         "15",
         "dcb36b511fcac050b97cd5c05de84dc3",
         "3b6828a50ffe546942b7a473d70ac0fc",
         "delivered",
         "2018-06-07 19:03:12",
         "2018-06-12 23:31:02",
         "2018-06-11 14:54:00",
         "2018-06-21 15:34:32",
         "2018-07-04 00:00:00",
         "ccafc1c3f270410521c3c6f3b249870f",
         "74820",
         "goiania",
         "GO"
        ],
        [
         "16",
         "403b97836b0c04a622354cf531062e5f",
         "738b086814c6fcc74b8cc583f8516ee3",
         "delivered",
         "2018-01-02 19:00:43",
         "2018-01-02 19:09:04",
         "2018-01-03 18:19:09",
         "2018-01-20 01:38:59",
         "2018-02-06 00:00:00",
         "6e26bbeaa107ec34112c64e1ee31c0f5",
         "21381",
         "rio de janeiro",
         "RJ"
        ],
        [
         "17",
         "116f0b09343b49556bbad5f35bee0cdf",
         "3187789bec990987628d7a9beb4dd6ac",
         "delivered",
         "2017-12-26 23:41:31",
         "2017-12-26 23:50:22",
         "2017-12-28 18:33:05",
         "2018-01-08 22:36:36",
         "2018-01-29 00:00:00",
         "6087cfc70fd833cf2db637a5e6e9d76b",
         "88780",
         "imbituba",
         "SC"
        ],
        [
         "18",
         "85ce859fd6dc634de8d2f1e290444043",
         "059f7fc5719c7da6cbafe370971a8d70",
         "delivered",
         "2017-11-21 00:03:41",
         "2017-11-21 00:14:22",
         "2017-11-23 21:32:26",
         "2017-11-27 18:28:00",
         "2017-12-11 00:00:00",
         "d0ff1a7468fcc46b8fc658ab35d2a12c",
         "13186",
         "hortolandia",
         "SP"
        ],
        [
         "19",
         "83018ec114eee8641c97e08f7b4e926f",
         "7f8c8b9c2ae27bf3300f670c3d478be8",
         "delivered",
         "2017-10-26 15:54:26",
         "2017-10-26 16:08:14",
         "2017-10-26 21:46:53",
         "2017-11-08 22:22:00",
         "2017-11-23 00:00:00",
         "634f09f6075fe9032e6c19609ffe995a",
         "44024",
         "feira de santana",
         "BA"
        ],
        [
         "20",
         "203096f03d82e0dffbc41ebc2e2bcfb7",
         "d2b091571da224a1b36412c18bc3bbfe",
         "delivered",
         "2017-09-18 14:31:30",
         "2017-09-19 04:04:09",
         "2017-10-06 17:50:03",
         "2017-10-09 22:23:46",
         "2017-09-28 00:00:00",
         "d699688533772c15a061e8ce81cb56df",
         "4001",
         "sao paulo",
         "SP"
        ],
        [
         "21",
         "f848643eec1d69395095eb3840d2051e",
         "4fa1cd166fa598be6de80fa84eaade43",
         "delivered",
         "2018-03-15 08:52:40",
         "2018-03-15 09:09:31",
         "2018-03-15 19:52:48",
         "2018-03-19 18:08:32",
         "2018-03-29 00:00:00",
         "68954feaafe4dd638f3bd3e2afa174ec",
         "8473",
         "sao paulo",
         "SP"
        ],
        [
         "22",
         "2807d0e504d6d4894d41672727bc139f",
         "72ae281627a6102d9b3718528b420f8a",
         "delivered",
         "2018-02-03 20:37:35",
         "2018-02-03 20:50:22",
         "2018-02-05 22:37:28",
         "2018-02-08 16:13:46",
         "2018-02-21 00:00:00",
         "b8df986511d928829c3192c2ed081eba",
         "3323",
         "sao paulo",
         "SP"
        ],
        [
         "23",
         "95266dbfb7e20354baba07964dac78d5",
         "a166da34890074091a942054b36e4265",
         "delivered",
         "2018-01-08 07:55:29",
         "2018-01-08 08:07:31",
         "2018-01-24 23:16:37",
         "2018-01-26 17:32:38",
         "2018-02-21 00:00:00",
         "451e48381edab7f1f6dbfa6d728616ff",
         "89070",
         "blumenau",
         "SC"
        ],
        [
         "24",
         "f3e7c359154d965827355f39d6b1fdac",
         "62b423aab58096ca514ba6aa06be2f98",
         "delivered",
         "2018-08-09 11:44:40",
         "2018-08-10 03:24:51",
         "2018-08-10 12:29:00",
         "2018-08-13 18:24:27",
         "2018-08-17 00:00:00",
         "9c9242ad7f1b52d926ea76778e1c0c57",
         "18052",
         "sorocaba",
         "SP"
        ],
        [
         "25",
         "fbf9ac61453ac646ce8ad9783d7d0af6",
         "3a874b4d4c4b6543206ff5d89287f0c3",
         "delivered",
         "2018-02-20 23:46:53",
         "2018-02-22 02:30:46",
         "2018-02-26 22:25:22",
         "2018-03-21 22:03:54",
         "2018-03-12 00:00:00",
         "a25d5f94840d3c6a1a49f271ed83f4ec",
         "21715",
         "rio de janeiro",
         "RJ"
        ],
        [
         "26",
         "acce194856392f074dbf9dada14d8d82",
         "7e20bf5ca92da68200643bda76c504c6",
         "delivered",
         "2018-06-04 00:00:13",
         "2018-06-05 00:35:10",
         "2018-06-05 13:24:00",
         "2018-06-16 15:20:55",
         "2018-07-18 00:00:00",
         "576ea0cab426cd8a00fad9a9c90a4494",
         "41213",
         "salvador",
         "BA"
        ],
        [
         "27",
         "dd78f560c270f1909639c11b925620ea",
         "8b212b9525f9e74e85e37ed6df37693e",
         "delivered",
         "2018-03-12 01:50:26",
         "2018-03-12 03:28:34",
         "2018-03-12 21:06:37",
         "2018-03-21 14:41:50",
         "2018-03-28 00:00:00",
         "f4a7ef6bd931f83d75d83b71c94e90df",
         "13568",
         "sao carlos",
         "SP"
        ],
        [
         "28",
         "91b2a010e1e45e6ba3d133fa997597be",
         "cce89a605105b148387c52e286ac8335",
         "delivered",
         "2018-05-02 11:45:38",
         "2018-05-03 12:55:01",
         "2018-05-10 16:16:00",
         "2018-05-16 20:56:24",
         "2018-05-23 00:00:00",
         "bd13608b9c6033892ce62269b50a0afc",
         "9182",
         "santo andre",
         "SP"
        ],
        [
         "29",
         "ecab90c9933c58908d3d6add7c6f5ae3",
         "761df82feda9778854c6dafdaeb567e4",
         "delivered",
         "2018-02-25 13:50:30",
         "2018-02-25 14:47:35",
         "2018-02-26 22:28:50",
         "2018-03-27 23:29:14",
         "2018-04-13 00:00:00",
         "1428917cd397d4f9ac0fde76dd6f2266",
         "69317",
         "boa vista",
         "RR"
        ],
        [
         "30",
         "f70a0aff17df5a6cdd9a7196128bd354",
         "456dc10730fbdba34615447ea195d643",
         "delivered",
         "2017-08-10 11:58:33",
         "2017-08-12 02:45:24",
         "2017-08-17 15:35:07",
         "2017-08-18 14:28:02",
         "2017-08-23 00:00:00",
         "1974875b4a1d2e2ee6d586e3ba4d7602",
         "5634",
         "sao paulo",
         "SP"
        ],
        [
         "31",
         "1790eea0b567cf50911c057cf20f90f9",
         "52142aa69d8d0e1247ab0cada0f76023",
         "delivered",
         "2018-04-16 21:15:39",
         "2018-04-16 22:10:26",
         "2018-04-18 13:05:09",
         "2018-05-05 12:28:34",
         "2018-05-15 00:00:00",
         "a6fefcd9f434474cf6fcd8ed1102fd63",
         "55540",
         "palmares",
         "PE"
        ],
        [
         "32",
         "989225ba6d0ebd5873335f7e01de2ae7",
         "816f8653d5361cbf94e58c33f2502a5c",
         "delivered",
         "2017-12-12 13:56:04",
         "2017-12-14 13:54:13",
         "2017-12-16 00:18:57",
         "2018-01-03 18:03:36",
         "2018-01-08 00:00:00",
         "37363700139c1aef873bbcd916e57dfd",
         "5778",
         "sao paulo",
         "SP"
        ],
        [
         "33",
         "d887b52c6516beb39e8cd44a5f8b60f7",
         "d9ef95f98d8da3b492bb8c0447910498",
         "delivered",
         "2018-02-03 12:38:58",
         "2018-02-03 12:50:30",
         "2018-02-05 21:26:53",
         "2018-02-22 00:07:55",
         "2018-03-07 00:00:00",
         "a2649503b92028291f011a976619b322",
         "26572",
         "mesquita",
         "RJ"
        ],
        [
         "34",
         "b276e4f8c0fb86bd82fce576f21713e0",
         "cf8ffeddf027932e51e4eae73b384059",
         "delivered",
         "2018-07-29 23:34:51",
         "2018-07-29 23:45:15",
         "2018-07-30 14:43:00",
         "2018-07-31 22:48:50",
         "2018-08-06 00:00:00",
         "6cbe8a392b76916e84c2faf69d0d0da0",
         "13454",
         "santa barbara d'oeste",
         "SP"
        ],
        [
         "35",
         "8563039e855156e48fccee4d611a3196",
         "5f16605299d698660e0606f7eae2d2f9",
         "delivered",
         "2018-02-17 15:59:46",
         "2018-02-17 16:15:34",
         "2018-02-20 23:03:56",
         "2018-03-20 00:59:25",
         "2018-03-20 00:00:00",
         "92fd8aa5948e20c43a014c44c025c5e1",
         "77480",
         "alvorada",
         "TO"
        ],
        [
         "36",
         "60550084e6b4c0cb89a87df1f3e5ebd9",
         "f5458ddc3545711efa883dd7ae7c4497",
         "delivered",
         "2018-02-21 18:15:12",
         "2018-02-23 02:10:52",
         "2018-02-27 18:52:09",
         "2018-03-13 23:58:43",
         "2018-03-29 00:00:00",
         "661a5e18a28b34880ccc60112f2b8e8e",
         "62360",
         "ibiapina",
         "CE"
        ],
        [
         "37",
         "5acce57f8d9dfd55fa48e212a641a69d",
         "295ae9b35379e077273387ff64354b6f",
         "delivered",
         "2017-07-31 21:37:10",
         "2017-08-02 02:56:02",
         "2017-08-03 18:32:48",
         "2017-08-08 21:24:41",
         "2017-08-22 00:00:00",
         "f1f4f45c8602d0db1329eed1c8e935d4",
         "19780",
         "quata",
         "SP"
        ],
        [
         "38",
         "434d158e96bdd6972ad6e6d73ddcfd22",
         "2a1dfb647f32f4390e7b857c67458536",
         "delivered",
         "2018-06-01 12:23:13",
         "2018-06-05 03:35:15",
         "2018-06-08 11:49:00",
         "2018-06-18 21:32:52",
         "2018-07-17 00:00:00",
         "5f7d7732b351ce851a158528581af05f",
         "54330",
         "jaboatao dos guararapes",
         "PE"
        ],
        [
         "39",
         "7206b86ea789983f7a273ea7fa0bc2a8",
         "3391c4bc11a817e7973e498b0b023158",
         "delivered",
         "2018-03-26 17:12:18",
         "2018-03-26 17:28:27",
         "2018-03-28 17:22:53",
         "2018-04-05 22:11:18",
         "2018-04-12 00:00:00",
         "1b542f810484d8c042aed33a7c61a218",
         "4561",
         "sao paulo",
         "SP"
        ],
        [
         "40",
         "1e7aff52cdbb2451ace09d0f848c3699",
         "ddaff536587109b89777e0353215e150",
         "delivered",
         "2017-05-19 18:53:40",
         "2017-05-19 19:05:17",
         "2017-05-22 10:16:07",
         "2017-05-31 13:58:46",
         "2017-06-12 00:00:00",
         "c796780c7daeab9e94cc052b1f103b21",
         "26600",
         "paracambi",
         "RJ"
        ],
        [
         "41",
         "6ea2f835b4556291ffdc53fa0b3b95e8",
         "c7340080e394356141681bd4c9b8fe31",
         "delivered",
         "2017-11-24 21:27:48",
         "2017-11-25 00:21:09",
         "2017-12-13 21:14:05",
         "2017-12-28 18:59:23",
         "2017-12-21 00:00:00",
         "3e4fd73f1e86b135b9b121d6abbe9597",
         "19400",
         "presidente venceslau",
         "SP"
        ],
        [
         "42",
         "948097deef559c742e7ce321e5e58919",
         "8644be24d48806bc3a88fd59fb47ceb1",
         "delivered",
         "2017-08-04 17:10:39",
         "2017-08-04 17:25:11",
         "2017-08-07 17:52:01",
         "2017-08-12 14:08:40",
         "2017-09-01 00:00:00",
         "4ca5f90433afb5493247f0bafb583483",
         "73350",
         "brasilia",
         "DF"
        ],
        [
         "43",
         "d22e9fa5731b9e30e8b27afcdc2f8563",
         "756fb9391752dad934e0fe3733378e57",
         "delivered",
         "2018-08-04 23:25:30",
         "2018-08-04 23:35:13",
         "2018-08-06 15:03:00",
         "2018-08-13 23:34:42",
         "2018-09-13 00:00:00",
         "394b2ce444baae9ae609f5d32000de0f",
         "47850",
         "luis eduardo magalhaes",
         "BA"
        ],
        [
         "44",
         "ee64d42b8cf066f35eac1cf57de1aa85",
         "caded193e8e47b8362864762a83db3c5",
         "shipped",
         "2018-06-04 16:44:48",
         "2018-06-05 04:31:18",
         "2018-06-05 14:32:00",
         null,
         "2018-06-28 00:00:00",
         "08fb46d35bb3ab4037202c23592d1259",
         "13215",
         "jundiai",
         "SP"
        ],
        [
         "45",
         "6ebaec694d7025e2ad4a05dba887c032",
         "4f28355e5c17a4a42d3ce2439a1d4501",
         "delivered",
         "2017-05-18 13:55:47",
         "2017-05-18 14:05:17",
         "2017-05-19 12:01:38",
         "2017-05-29 12:47:20",
         "2017-06-09 00:00:00",
         "4acce2834231e13b1514915adda5ec2b",
         "21910",
         "rio de janeiro",
         "RJ"
        ],
        [
         "46",
         "d17dc4a904426827ca80f2ccb3a6be56",
         "569cf68214806a39acc0f39344aea67f",
         "delivered",
         "2017-05-14 20:28:25",
         "2017-05-14 20:42:45",
         "2017-05-16 08:17:46",
         "2017-05-25 09:14:31",
         "2017-06-12 00:00:00",
         "c2551ea089b7ebbc67a2ea8757152514",
         "44380",
         "cruz das almas",
         "BA"
        ],
        [
         "47",
         "25f4376934e13d3508486352e11a5db0",
         "12fd2740039676063a874b9567dfa651",
         "delivered",
         "2018-05-17 16:59:11",
         "2018-05-18 01:17:39",
         "2018-05-18 13:02:00",
         "2018-05-21 15:22:11",
         "2018-05-25 00:00:00",
         "372e0fc66eacb8698e4f9997d366d961",
         "12230",
         "sao jose dos campos",
         "SP"
        ],
        [
         "48",
         "5820a1100976432c7968a52da59e9364",
         "2b56e94c2f66f2d97cfa63356f69cee8",
         "delivered",
         "2018-07-29 11:24:17",
         "2018-07-29 11:44:19",
         "2018-07-30 13:47:00",
         "2018-08-02 22:09:11",
         "2018-08-13 00:00:00",
         "cc1a30280651daf2d918ed7868575771",
         "95270",
         "flores da cunha",
         "RS"
        ],
        [
         "49",
         "2ce1ad82022c1ba30c2079502ac725aa",
         "7f2178c5d771e17f507d3c1637339298",
         "delivered",
         "2017-08-09 20:19:05",
         "2017-08-11 04:15:29",
         "2017-08-11 17:52:32",
         "2017-08-16 17:16:44",
         "2017-08-31 00:00:00",
         "12e7a2c201751ddc979e7a45cef500f3",
         "1038",
         "sao paulo",
         "SP"
        ]
       ],
       "shape": {
        "columns": 12,
        "rows": 99441
       }
      },
      "text/html": [
       "<div>\n",
       "<style scoped>\n",
       "    .dataframe tbody tr th:only-of-type {\n",
       "        vertical-align: middle;\n",
       "    }\n",
       "\n",
       "    .dataframe tbody tr th {\n",
       "        vertical-align: top;\n",
       "    }\n",
       "\n",
       "    .dataframe thead th {\n",
       "        text-align: right;\n",
       "    }\n",
       "</style>\n",
       "<table border=\"1\" class=\"dataframe\">\n",
       "  <thead>\n",
       "    <tr style=\"text-align: right;\">\n",
       "      <th></th>\n",
       "      <th>order_id</th>\n",
       "      <th>customer_id</th>\n",
       "      <th>order_status</th>\n",
       "      <th>order_purchase_timestamp</th>\n",
       "      <th>order_approved_at</th>\n",
       "      <th>order_delivered_carrier_date</th>\n",
       "      <th>order_delivered_customer_date</th>\n",
       "      <th>order_estimated_delivery_date</th>\n",
       "      <th>customer_unique_id</th>\n",
       "      <th>customer_zip_code_prefix</th>\n",
       "      <th>customer_city</th>\n",
       "      <th>customer_state</th>\n",
       "    </tr>\n",
       "  </thead>\n",
       "  <tbody>\n",
       "    <tr>\n",
       "      <th>0</th>\n",
       "      <td>e481f51cbdc54678b7cc49136f2d6af7</td>\n",
       "      <td>9ef432eb6251297304e76186b10a928d</td>\n",
       "      <td>delivered</td>\n",
       "      <td>2017-10-02 10:56:33</td>\n",
       "      <td>2017-10-02 11:07:15</td>\n",
       "      <td>2017-10-04 19:55:00</td>\n",
       "      <td>2017-10-10 21:25:13</td>\n",
       "      <td>2017-10-18 00:00:00</td>\n",
       "      <td>7c396fd4830fd04220f754e42b4e5bff</td>\n",
       "      <td>3149</td>\n",
       "      <td>sao paulo</td>\n",
       "      <td>SP</td>\n",
       "    </tr>\n",
       "    <tr>\n",
       "      <th>1</th>\n",
       "      <td>53cdb2fc8bc7dce0b6741e2150273451</td>\n",
       "      <td>b0830fb4747a6c6d20dea0b8c802d7ef</td>\n",
       "      <td>delivered</td>\n",
       "      <td>2018-07-24 20:41:37</td>\n",
       "      <td>2018-07-26 03:24:27</td>\n",
       "      <td>2018-07-26 14:31:00</td>\n",
       "      <td>2018-08-07 15:27:45</td>\n",
       "      <td>2018-08-13 00:00:00</td>\n",
       "      <td>af07308b275d755c9edb36a90c618231</td>\n",
       "      <td>47813</td>\n",
       "      <td>barreiras</td>\n",
       "      <td>BA</td>\n",
       "    </tr>\n",
       "    <tr>\n",
       "      <th>2</th>\n",
       "      <td>47770eb9100c2d0c44946d9cf07ec65d</td>\n",
       "      <td>41ce2a54c0b03bf3443c3d931a367089</td>\n",
       "      <td>delivered</td>\n",
       "      <td>2018-08-08 08:38:49</td>\n",
       "      <td>2018-08-08 08:55:23</td>\n",
       "      <td>2018-08-08 13:50:00</td>\n",
       "      <td>2018-08-17 18:06:29</td>\n",
       "      <td>2018-09-04 00:00:00</td>\n",
       "      <td>3a653a41f6f9fc3d2a113cf8398680e8</td>\n",
       "      <td>75265</td>\n",
       "      <td>vianopolis</td>\n",
       "      <td>GO</td>\n",
       "    </tr>\n",
       "    <tr>\n",
       "      <th>3</th>\n",
       "      <td>949d5b44dbf5de918fe9c16f97b45f8a</td>\n",
       "      <td>f88197465ea7920adcdbec7375364d82</td>\n",
       "      <td>delivered</td>\n",
       "      <td>2017-11-18 19:28:06</td>\n",
       "      <td>2017-11-18 19:45:59</td>\n",
       "      <td>2017-11-22 13:39:59</td>\n",
       "      <td>2017-12-02 00:28:42</td>\n",
       "      <td>2017-12-15 00:00:00</td>\n",
       "      <td>7c142cf63193a1473d2e66489a9ae977</td>\n",
       "      <td>59296</td>\n",
       "      <td>sao goncalo do amarante</td>\n",
       "      <td>RN</td>\n",
       "    </tr>\n",
       "    <tr>\n",
       "      <th>4</th>\n",
       "      <td>ad21c59c0840e6cb83a9ceb5573f8159</td>\n",
       "      <td>8ab97904e6daea8866dbdbc4fb7aad2c</td>\n",
       "      <td>delivered</td>\n",
       "      <td>2018-02-13 21:18:39</td>\n",
       "      <td>2018-02-13 22:20:29</td>\n",
       "      <td>2018-02-14 19:46:34</td>\n",
       "      <td>2018-02-16 18:17:02</td>\n",
       "      <td>2018-02-26 00:00:00</td>\n",
       "      <td>72632f0f9dd73dfee390c9b22eb56dd6</td>\n",
       "      <td>9195</td>\n",
       "      <td>santo andre</td>\n",
       "      <td>SP</td>\n",
       "    </tr>\n",
       "    <tr>\n",
       "      <th>...</th>\n",
       "      <td>...</td>\n",
       "      <td>...</td>\n",
       "      <td>...</td>\n",
       "      <td>...</td>\n",
       "      <td>...</td>\n",
       "      <td>...</td>\n",
       "      <td>...</td>\n",
       "      <td>...</td>\n",
       "      <td>...</td>\n",
       "      <td>...</td>\n",
       "      <td>...</td>\n",
       "      <td>...</td>\n",
       "    </tr>\n",
       "    <tr>\n",
       "      <th>99436</th>\n",
       "      <td>9c5dedf39a927c1b2549525ed64a053c</td>\n",
       "      <td>39bd1228ee8140590ac3aca26f2dfe00</td>\n",
       "      <td>delivered</td>\n",
       "      <td>2017-03-09 09:54:05</td>\n",
       "      <td>2017-03-09 09:54:05</td>\n",
       "      <td>2017-03-10 11:18:03</td>\n",
       "      <td>2017-03-17 15:08:01</td>\n",
       "      <td>2017-03-28 00:00:00</td>\n",
       "      <td>6359f309b166b0196dbf7ad2ac62bb5a</td>\n",
       "      <td>12209</td>\n",
       "      <td>sao jose dos campos</td>\n",
       "      <td>SP</td>\n",
       "    </tr>\n",
       "    <tr>\n",
       "      <th>99437</th>\n",
       "      <td>63943bddc261676b46f01ca7ac2f7bd8</td>\n",
       "      <td>1fca14ff2861355f6e5f14306ff977a7</td>\n",
       "      <td>delivered</td>\n",
       "      <td>2018-02-06 12:58:58</td>\n",
       "      <td>2018-02-06 13:10:37</td>\n",
       "      <td>2018-02-07 23:22:42</td>\n",
       "      <td>2018-02-28 17:37:56</td>\n",
       "      <td>2018-03-02 00:00:00</td>\n",
       "      <td>da62f9e57a76d978d02ab5362c509660</td>\n",
       "      <td>11722</td>\n",
       "      <td>praia grande</td>\n",
       "      <td>SP</td>\n",
       "    </tr>\n",
       "    <tr>\n",
       "      <th>99438</th>\n",
       "      <td>83c1379a015df1e13d02aae0204711ab</td>\n",
       "      <td>1aa71eb042121263aafbe80c1b562c9c</td>\n",
       "      <td>delivered</td>\n",
       "      <td>2017-08-27 14:46:43</td>\n",
       "      <td>2017-08-27 15:04:16</td>\n",
       "      <td>2017-08-28 20:52:26</td>\n",
       "      <td>2017-09-21 11:24:17</td>\n",
       "      <td>2017-09-27 00:00:00</td>\n",
       "      <td>737520a9aad80b3fbbdad19b66b37b30</td>\n",
       "      <td>45920</td>\n",
       "      <td>nova vicosa</td>\n",
       "      <td>BA</td>\n",
       "    </tr>\n",
       "    <tr>\n",
       "      <th>99439</th>\n",
       "      <td>11c177c8e97725db2631073c19f07b62</td>\n",
       "      <td>b331b74b18dc79bcdf6532d51e1637c1</td>\n",
       "      <td>delivered</td>\n",
       "      <td>2018-01-08 21:28:27</td>\n",
       "      <td>2018-01-08 21:36:21</td>\n",
       "      <td>2018-01-12 15:35:03</td>\n",
       "      <td>2018-01-25 23:32:54</td>\n",
       "      <td>2018-02-15 00:00:00</td>\n",
       "      <td>5097a5312c8b157bb7be58ae360ef43c</td>\n",
       "      <td>28685</td>\n",
       "      <td>japuiba</td>\n",
       "      <td>RJ</td>\n",
       "    </tr>\n",
       "    <tr>\n",
       "      <th>99440</th>\n",
       "      <td>66dea50a8b16d9b4dee7af250b4be1a5</td>\n",
       "      <td>edb027a75a1449115f6b43211ae02a24</td>\n",
       "      <td>delivered</td>\n",
       "      <td>2018-03-08 20:57:30</td>\n",
       "      <td>2018-03-09 11:20:28</td>\n",
       "      <td>2018-03-09 22:11:59</td>\n",
       "      <td>2018-03-16 13:08:30</td>\n",
       "      <td>2018-04-03 00:00:00</td>\n",
       "      <td>60350aa974b26ff12caad89e55993bd6</td>\n",
       "      <td>83750</td>\n",
       "      <td>lapa</td>\n",
       "      <td>PR</td>\n",
       "    </tr>\n",
       "  </tbody>\n",
       "</table>\n",
       "<p>99441 rows × 12 columns</p>\n",
       "</div>"
      ],
      "text/plain": [
       "                               order_id                       customer_id  \\\n",
       "0      e481f51cbdc54678b7cc49136f2d6af7  9ef432eb6251297304e76186b10a928d   \n",
       "1      53cdb2fc8bc7dce0b6741e2150273451  b0830fb4747a6c6d20dea0b8c802d7ef   \n",
       "2      47770eb9100c2d0c44946d9cf07ec65d  41ce2a54c0b03bf3443c3d931a367089   \n",
       "3      949d5b44dbf5de918fe9c16f97b45f8a  f88197465ea7920adcdbec7375364d82   \n",
       "4      ad21c59c0840e6cb83a9ceb5573f8159  8ab97904e6daea8866dbdbc4fb7aad2c   \n",
       "...                                 ...                               ...   \n",
       "99436  9c5dedf39a927c1b2549525ed64a053c  39bd1228ee8140590ac3aca26f2dfe00   \n",
       "99437  63943bddc261676b46f01ca7ac2f7bd8  1fca14ff2861355f6e5f14306ff977a7   \n",
       "99438  83c1379a015df1e13d02aae0204711ab  1aa71eb042121263aafbe80c1b562c9c   \n",
       "99439  11c177c8e97725db2631073c19f07b62  b331b74b18dc79bcdf6532d51e1637c1   \n",
       "99440  66dea50a8b16d9b4dee7af250b4be1a5  edb027a75a1449115f6b43211ae02a24   \n",
       "\n",
       "      order_status order_purchase_timestamp    order_approved_at  \\\n",
       "0        delivered      2017-10-02 10:56:33  2017-10-02 11:07:15   \n",
       "1        delivered      2018-07-24 20:41:37  2018-07-26 03:24:27   \n",
       "2        delivered      2018-08-08 08:38:49  2018-08-08 08:55:23   \n",
       "3        delivered      2017-11-18 19:28:06  2017-11-18 19:45:59   \n",
       "4        delivered      2018-02-13 21:18:39  2018-02-13 22:20:29   \n",
       "...            ...                      ...                  ...   \n",
       "99436    delivered      2017-03-09 09:54:05  2017-03-09 09:54:05   \n",
       "99437    delivered      2018-02-06 12:58:58  2018-02-06 13:10:37   \n",
       "99438    delivered      2017-08-27 14:46:43  2017-08-27 15:04:16   \n",
       "99439    delivered      2018-01-08 21:28:27  2018-01-08 21:36:21   \n",
       "99440    delivered      2018-03-08 20:57:30  2018-03-09 11:20:28   \n",
       "\n",
       "      order_delivered_carrier_date order_delivered_customer_date  \\\n",
       "0              2017-10-04 19:55:00           2017-10-10 21:25:13   \n",
       "1              2018-07-26 14:31:00           2018-08-07 15:27:45   \n",
       "2              2018-08-08 13:50:00           2018-08-17 18:06:29   \n",
       "3              2017-11-22 13:39:59           2017-12-02 00:28:42   \n",
       "4              2018-02-14 19:46:34           2018-02-16 18:17:02   \n",
       "...                            ...                           ...   \n",
       "99436          2017-03-10 11:18:03           2017-03-17 15:08:01   \n",
       "99437          2018-02-07 23:22:42           2018-02-28 17:37:56   \n",
       "99438          2017-08-28 20:52:26           2017-09-21 11:24:17   \n",
       "99439          2018-01-12 15:35:03           2018-01-25 23:32:54   \n",
       "99440          2018-03-09 22:11:59           2018-03-16 13:08:30   \n",
       "\n",
       "      order_estimated_delivery_date                customer_unique_id  \\\n",
       "0               2017-10-18 00:00:00  7c396fd4830fd04220f754e42b4e5bff   \n",
       "1               2018-08-13 00:00:00  af07308b275d755c9edb36a90c618231   \n",
       "2               2018-09-04 00:00:00  3a653a41f6f9fc3d2a113cf8398680e8   \n",
       "3               2017-12-15 00:00:00  7c142cf63193a1473d2e66489a9ae977   \n",
       "4               2018-02-26 00:00:00  72632f0f9dd73dfee390c9b22eb56dd6   \n",
       "...                             ...                               ...   \n",
       "99436           2017-03-28 00:00:00  6359f309b166b0196dbf7ad2ac62bb5a   \n",
       "99437           2018-03-02 00:00:00  da62f9e57a76d978d02ab5362c509660   \n",
       "99438           2017-09-27 00:00:00  737520a9aad80b3fbbdad19b66b37b30   \n",
       "99439           2018-02-15 00:00:00  5097a5312c8b157bb7be58ae360ef43c   \n",
       "99440           2018-04-03 00:00:00  60350aa974b26ff12caad89e55993bd6   \n",
       "\n",
       "       customer_zip_code_prefix            customer_city customer_state  \n",
       "0                          3149                sao paulo             SP  \n",
       "1                         47813                barreiras             BA  \n",
       "2                         75265               vianopolis             GO  \n",
       "3                         59296  sao goncalo do amarante             RN  \n",
       "4                          9195              santo andre             SP  \n",
       "...                         ...                      ...            ...  \n",
       "99436                     12209      sao jose dos campos             SP  \n",
       "99437                     11722             praia grande             SP  \n",
       "99438                     45920              nova vicosa             BA  \n",
       "99439                     28685                  japuiba             RJ  \n",
       "99440                     83750                     lapa             PR  \n",
       "\n",
       "[99441 rows x 12 columns]"
      ]
     },
     "execution_count": 26,
     "metadata": {},
     "output_type": "execute_result"
    }
   ],
   "source": [
    "df_costumer_orders"
   ]
  },
  {
   "cell_type": "code",
   "execution_count": 27,
   "id": "acbdfdbc",
   "metadata": {},
   "outputs": [
    {
     "name": "stdout",
     "output_type": "stream",
     "text": [
      "<class 'pandas.core.frame.DataFrame'>\n",
      "RangeIndex: 99441 entries, 0 to 99440\n",
      "Data columns (total 12 columns):\n",
      " #   Column                         Non-Null Count  Dtype         \n",
      "---  ------                         --------------  -----         \n",
      " 0   order_id                       99441 non-null  object        \n",
      " 1   customer_id                    99441 non-null  object        \n",
      " 2   order_status                   99441 non-null  object        \n",
      " 3   order_purchase_timestamp       99441 non-null  datetime64[ns]\n",
      " 4   order_approved_at              99281 non-null  datetime64[ns]\n",
      " 5   order_delivered_carrier_date   97658 non-null  datetime64[ns]\n",
      " 6   order_delivered_customer_date  96476 non-null  datetime64[ns]\n",
      " 7   order_estimated_delivery_date  99441 non-null  datetime64[ns]\n",
      " 8   customer_unique_id             99441 non-null  object        \n",
      " 9   customer_zip_code_prefix       99441 non-null  int64         \n",
      " 10  customer_city                  99441 non-null  object        \n",
      " 11  customer_state                 99441 non-null  object        \n",
      "dtypes: datetime64[ns](5), int64(1), object(6)\n",
      "memory usage: 9.1+ MB\n"
     ]
    }
   ],
   "source": [
    "# pasar a datetime las columnas de fecha de df_costumer_orders\n",
    "df_costumer_orders['order_purchase_timestamp'] = pd.to_datetime(df_costumer_orders['order_purchase_timestamp'])\n",
    "df_costumer_orders['order_approved_at'] = pd.to_datetime(df_costumer_orders['order_approved_at'])\n",
    "df_costumer_orders['order_delivered_carrier_date'] = pd.to_datetime(df_costumer_orders['order_delivered_carrier_date'])\n",
    "df_costumer_orders['order_delivered_customer_date'] = pd.to_datetime(df_costumer_orders['order_delivered_customer_date'])\n",
    "df_costumer_orders['order_estimated_delivery_date'] = pd.to_datetime(df_costumer_orders['order_estimated_delivery_date'])\n",
    "df_costumer_orders.info()"
   ]
  },
  {
   "cell_type": "code",
   "execution_count": 28,
   "id": "7fe6d2d5",
   "metadata": {},
   "outputs": [
    {
     "data": {
      "application/vnd.microsoft.datawrangler.viewer.v0+json": {
       "columns": [
        {
         "name": "customer_city",
         "rawType": "object",
         "type": "string"
        },
        {
         "name": "late_orders",
         "rawType": "int64",
         "type": "integer"
        }
       ],
       "conversionMethod": "pd.DataFrame",
       "ref": "8f128281-af0d-44ff-8cc7-699f398010ff",
       "rows": [
        [
         "sao paulo",
         "942"
        ],
        [
         "rio de janeiro",
         "780"
        ],
        [
         "salvador",
         "208"
        ],
        [
         "belo horizonte",
         "166"
        ],
        [
         "porto alegre",
         "158"
        ],
        [
         "brasilia",
         "147"
        ],
        [
         "campinas",
         "143"
        ],
        [
         "fortaleza",
         "111"
        ],
        [
         "niteroi",
         "103"
        ],
        [
         "sao goncalo",
         "96"
        ],
        [
         "recife",
         "79"
        ],
        [
         "goiania",
         "76"
        ],
        [
         "sao luis",
         "75"
        ],
        [
         "curitiba",
         "74"
        ],
        [
         "guarulhos",
         "72"
        ],
        [
         "florianopolis",
         "71"
        ],
        [
         "maceio",
         "70"
        ],
        [
         "santos",
         "65"
        ],
        [
         "teresina",
         "60"
        ],
        [
         "nova iguacu",
         "57"
        ],
        [
         "sao bernardo do campo",
         "57"
        ],
        [
         "vila velha",
         "50"
        ],
        [
         "serra",
         "43"
        ],
        [
         "vitoria",
         "43"
        ],
        [
         "macae",
         "42"
        ],
        [
         "belem",
         "42"
        ],
        [
         "volta redonda",
         "41"
        ],
        [
         "sao jose dos campos",
         "40"
        ],
        [
         "campo grande",
         "38"
        ],
        [
         "osasco",
         "35"
        ],
        [
         "campos dos goytacazes",
         "34"
        ],
        [
         "jundiai",
         "33"
        ],
        [
         "duque de caxias",
         "32"
        ],
        [
         "santo andre",
         "31"
        ],
        [
         "hortolandia",
         "30"
        ],
        [
         "nova friburgo",
         "30"
        ],
        [
         "petropolis",
         "30"
        ],
        [
         "joao pessoa",
         "29"
        ],
        [
         "maua",
         "29"
        ],
        [
         "aracaju",
         "29"
        ],
        [
         "praia grande",
         "28"
        ],
        [
         "contagem",
         "27"
        ],
        [
         "cabo frio",
         "27"
        ],
        [
         "sao joao de meriti",
         "27"
        ],
        [
         "rio das ostras",
         "27"
        ],
        [
         "sao jose",
         "26"
        ],
        [
         "sorocaba",
         "25"
        ],
        [
         "juiz de fora",
         "25"
        ],
        [
         "joinville",
         "24"
        ],
        [
         "diadema",
         "23"
        ]
       ],
       "shape": {
        "columns": 1,
        "rows": 1299
       }
      },
      "text/html": [
       "<div>\n",
       "<style scoped>\n",
       "    .dataframe tbody tr th:only-of-type {\n",
       "        vertical-align: middle;\n",
       "    }\n",
       "\n",
       "    .dataframe tbody tr th {\n",
       "        vertical-align: top;\n",
       "    }\n",
       "\n",
       "    .dataframe thead th {\n",
       "        text-align: right;\n",
       "    }\n",
       "</style>\n",
       "<table border=\"1\" class=\"dataframe\">\n",
       "  <thead>\n",
       "    <tr style=\"text-align: right;\">\n",
       "      <th></th>\n",
       "      <th>late_orders</th>\n",
       "    </tr>\n",
       "    <tr>\n",
       "      <th>customer_city</th>\n",
       "      <th></th>\n",
       "    </tr>\n",
       "  </thead>\n",
       "  <tbody>\n",
       "    <tr>\n",
       "      <th>sao paulo</th>\n",
       "      <td>942</td>\n",
       "    </tr>\n",
       "    <tr>\n",
       "      <th>rio de janeiro</th>\n",
       "      <td>780</td>\n",
       "    </tr>\n",
       "    <tr>\n",
       "      <th>salvador</th>\n",
       "      <td>208</td>\n",
       "    </tr>\n",
       "    <tr>\n",
       "      <th>belo horizonte</th>\n",
       "      <td>166</td>\n",
       "    </tr>\n",
       "    <tr>\n",
       "      <th>porto alegre</th>\n",
       "      <td>158</td>\n",
       "    </tr>\n",
       "    <tr>\n",
       "      <th>...</th>\n",
       "      <td>...</td>\n",
       "    </tr>\n",
       "    <tr>\n",
       "      <th>aguai</th>\n",
       "      <td>1</td>\n",
       "    </tr>\n",
       "    <tr>\n",
       "      <th>aguas claras</th>\n",
       "      <td>1</td>\n",
       "    </tr>\n",
       "    <tr>\n",
       "      <th>aguas de lindoia</th>\n",
       "      <td>1</td>\n",
       "    </tr>\n",
       "    <tr>\n",
       "      <th>agudos</th>\n",
       "      <td>1</td>\n",
       "    </tr>\n",
       "    <tr>\n",
       "      <th>aimores</th>\n",
       "      <td>1</td>\n",
       "    </tr>\n",
       "  </tbody>\n",
       "</table>\n",
       "<p>1299 rows × 1 columns</p>\n",
       "</div>"
      ],
      "text/plain": [
       "                  late_orders\n",
       "customer_city                \n",
       "sao paulo                 942\n",
       "rio de janeiro            780\n",
       "salvador                  208\n",
       "belo horizonte            166\n",
       "porto alegre              158\n",
       "...                       ...\n",
       "aguai                       1\n",
       "aguas claras                1\n",
       "aguas de lindoia            1\n",
       "agudos                      1\n",
       "aimores                     1\n",
       "\n",
       "[1299 rows x 1 columns]"
      ]
     },
     "execution_count": 28,
     "metadata": {},
     "output_type": "execute_result"
    }
   ],
   "source": [
    "# numero de pedidos que llegan tarde (order_estimated_delivery_date, order_delivered_customer_date) por ciudad (customer_city)\n",
    "late_orders = (\n",
    "    df_costumer_orders[\n",
    "        df_costumer_orders[\"order_delivered_customer_date\"]\n",
    "        > df_costumer_orders[\"order_estimated_delivery_date\"]\n",
    "    ]\n",
    "    .groupby(\"customer_city\")\n",
    "    .size()\n",
    "    .sort_values(ascending=False)\n",
    "    .rename(\"late_orders\")\n",
    "    .to_frame()\n",
    ")\n",
    "\n",
    "late_orders"
   ]
  },
  {
   "cell_type": "code",
   "execution_count": 29,
   "id": "51a4ba0a",
   "metadata": {
    "vscode": {
     "languageId": "ruby"
    }
   },
   "outputs": [
    {
     "data": {
      "application/vnd.microsoft.datawrangler.viewer.v0+json": {
       "columns": [
        {
         "name": "customer_city",
         "rawType": "object",
         "type": "string"
        },
        {
         "name": "late_orders",
         "rawType": "int64",
         "type": "integer"
        },
        {
         "name": "avg_late_days",
         "rawType": "float64",
         "type": "float"
        },
        {
         "name": "total_orders",
         "rawType": "int64",
         "type": "integer"
        },
        {
         "name": "late_percentage",
         "rawType": "float64",
         "type": "float"
        }
       ],
       "conversionMethod": "pd.DataFrame",
       "ref": "0c8e3a96-af69-4fc4-b950-d2711865e9c7",
       "rows": [
        [
         "sao paulo",
         "942",
         "5.718683651804671",
         "15540",
         "6.061776061776062"
        ],
        [
         "rio de janeiro",
         "780",
         "12.074358974358974",
         "6882",
         "11.333914559721011"
        ],
        [
         "salvador",
         "208",
         "9.04326923076923",
         "1245",
         "16.70682730923695"
        ],
        [
         "belo horizonte",
         "166",
         "6.108433734939759",
         "2773",
         "5.986296429859358"
        ],
        [
         "porto alegre",
         "158",
         "9.082278481012658",
         "1379",
         "11.457577955039884"
        ],
        [
         "brasilia",
         "147",
         "5.9523809523809526",
         "2131",
         "6.8981698732989205"
        ],
        [
         "campinas",
         "143",
         "6.153846153846154",
         "1444",
         "9.903047091412741"
        ],
        [
         "fortaleza",
         "111",
         "13.846846846846846",
         "654",
         "16.972477064220186"
        ],
        [
         "niteroi",
         "103",
         "12.41747572815534",
         "849",
         "12.131919905771497"
        ],
        [
         "sao goncalo",
         "96",
         "11.46875",
         "409",
         "23.4718826405868"
        ],
        [
         "recife",
         "79",
         "11.050632911392405",
         "613",
         "12.887438825448614"
        ],
        [
         "goiania",
         "76",
         "7.328947368421052",
         "692",
         "10.982658959537572"
        ],
        [
         "sao luis",
         "75",
         "7.466666666666667",
         "353",
         "21.246458923512748"
        ],
        [
         "curitiba",
         "74",
         "6.905405405405405",
         "1521",
         "4.865220249835635"
        ],
        [
         "guarulhos",
         "72",
         "4.986111111111111",
         "1189",
         "6.055508830950378"
        ],
        [
         "florianopolis",
         "71",
         "6.464788732394366",
         "570",
         "12.456140350877194"
        ],
        [
         "maceio",
         "70",
         "9.271428571428572",
         "247",
         "28.34008097165992"
        ],
        [
         "santos",
         "65",
         "5.430769230769231",
         "713",
         "9.1164095371669"
        ],
        [
         "teresina",
         "60",
         "12.716666666666667",
         "281",
         "21.352313167259787"
        ],
        [
         "nova iguacu",
         "57",
         "9.894736842105264",
         "442",
         "12.895927601809957"
        ],
        [
         "sao bernardo do campo",
         "57",
         "8.385964912280702",
         "938",
         "6.076759061833688"
        ],
        [
         "vila velha",
         "50",
         "9.16",
         "334",
         "14.97005988023952"
        ],
        [
         "serra",
         "43",
         "7.790697674418604",
         "285",
         "15.087719298245613"
        ],
        [
         "vitoria",
         "43",
         "5.069767441860465",
         "380",
         "11.31578947368421"
        ],
        [
         "macae",
         "42",
         "14.761904761904763",
         "239",
         "17.573221757322173"
        ],
        [
         "belem",
         "42",
         "12.666666666666666",
         "447",
         "9.395973154362416"
        ],
        [
         "volta redonda",
         "41",
         "9.78048780487805",
         "232",
         "17.67241379310345"
        ],
        [
         "sao jose dos campos",
         "40",
         "4.225",
         "691",
         "5.788712011577424"
        ],
        [
         "campo grande",
         "38",
         "6.552631578947368",
         "320",
         "11.875"
        ],
        [
         "osasco",
         "35",
         "5.057142857142857",
         "746",
         "4.6916890080428955"
        ],
        [
         "campos dos goytacazes",
         "34",
         "10.235294117647058",
         "238",
         "14.285714285714285"
        ],
        [
         "jundiai",
         "33",
         "7.212121212121212",
         "565",
         "5.84070796460177"
        ],
        [
         "duque de caxias",
         "32",
         "8.90625",
         "266",
         "12.030075187969924"
        ],
        [
         "santo andre",
         "31",
         "6.548387096774194",
         "797",
         "3.889585947302384"
        ],
        [
         "hortolandia",
         "30",
         "5.8",
         "145",
         "20.689655172413794"
        ],
        [
         "nova friburgo",
         "30",
         "19.3",
         "152",
         "19.736842105263158"
        ],
        [
         "petropolis",
         "30",
         "11.266666666666667",
         "240",
         "12.5"
        ],
        [
         "joao pessoa",
         "29",
         "9.068965517241379",
         "256",
         "11.328125"
        ],
        [
         "maua",
         "29",
         "7.482758620689655",
         "323",
         "8.978328173374612"
        ],
        [
         "aracaju",
         "29",
         "14.482758620689655",
         "225",
         "12.88888888888889"
        ],
        [
         "praia grande",
         "28",
         "11.821428571428571",
         "316",
         "8.860759493670885"
        ],
        [
         "contagem",
         "27",
         "6.2592592592592595",
         "426",
         "6.338028169014084"
        ],
        [
         "cabo frio",
         "27",
         "9.703703703703704",
         "117",
         "23.076923076923077"
        ],
        [
         "sao joao de meriti",
         "27",
         "15.407407407407407",
         "134",
         "20.149253731343283"
        ],
        [
         "rio das ostras",
         "27",
         "18.88888888888889",
         "137",
         "19.708029197080293"
        ],
        [
         "sao jose",
         "26",
         "8.884615384615385",
         "169",
         "15.384615384615385"
        ],
        [
         "sorocaba",
         "25",
         "2.44",
         "633",
         "3.949447077409163"
        ],
        [
         "juiz de fora",
         "25",
         "7.04",
         "427",
         "5.85480093676815"
        ],
        [
         "joinville",
         "24",
         "8.708333333333334",
         "264",
         "9.090909090909092"
        ],
        [
         "diadema",
         "23",
         "7.6521739130434785",
         "286",
         "8.041958041958042"
        ]
       ],
       "shape": {
        "columns": 4,
        "rows": 1299
       }
      },
      "text/html": [
       "<div>\n",
       "<style scoped>\n",
       "    .dataframe tbody tr th:only-of-type {\n",
       "        vertical-align: middle;\n",
       "    }\n",
       "\n",
       "    .dataframe tbody tr th {\n",
       "        vertical-align: top;\n",
       "    }\n",
       "\n",
       "    .dataframe thead th {\n",
       "        text-align: right;\n",
       "    }\n",
       "</style>\n",
       "<table border=\"1\" class=\"dataframe\">\n",
       "  <thead>\n",
       "    <tr style=\"text-align: right;\">\n",
       "      <th></th>\n",
       "      <th>late_orders</th>\n",
       "      <th>avg_late_days</th>\n",
       "      <th>total_orders</th>\n",
       "      <th>late_percentage</th>\n",
       "    </tr>\n",
       "    <tr>\n",
       "      <th>customer_city</th>\n",
       "      <th></th>\n",
       "      <th></th>\n",
       "      <th></th>\n",
       "      <th></th>\n",
       "    </tr>\n",
       "  </thead>\n",
       "  <tbody>\n",
       "    <tr>\n",
       "      <th>sao paulo</th>\n",
       "      <td>942</td>\n",
       "      <td>5.718684</td>\n",
       "      <td>15540</td>\n",
       "      <td>6.061776</td>\n",
       "    </tr>\n",
       "    <tr>\n",
       "      <th>rio de janeiro</th>\n",
       "      <td>780</td>\n",
       "      <td>12.074359</td>\n",
       "      <td>6882</td>\n",
       "      <td>11.333915</td>\n",
       "    </tr>\n",
       "    <tr>\n",
       "      <th>salvador</th>\n",
       "      <td>208</td>\n",
       "      <td>9.043269</td>\n",
       "      <td>1245</td>\n",
       "      <td>16.706827</td>\n",
       "    </tr>\n",
       "    <tr>\n",
       "      <th>belo horizonte</th>\n",
       "      <td>166</td>\n",
       "      <td>6.108434</td>\n",
       "      <td>2773</td>\n",
       "      <td>5.986296</td>\n",
       "    </tr>\n",
       "    <tr>\n",
       "      <th>porto alegre</th>\n",
       "      <td>158</td>\n",
       "      <td>9.082278</td>\n",
       "      <td>1379</td>\n",
       "      <td>11.457578</td>\n",
       "    </tr>\n",
       "    <tr>\n",
       "      <th>...</th>\n",
       "      <td>...</td>\n",
       "      <td>...</td>\n",
       "      <td>...</td>\n",
       "      <td>...</td>\n",
       "    </tr>\n",
       "    <tr>\n",
       "      <th>aguai</th>\n",
       "      <td>1</td>\n",
       "      <td>7.000000</td>\n",
       "      <td>10</td>\n",
       "      <td>10.000000</td>\n",
       "    </tr>\n",
       "    <tr>\n",
       "      <th>aguas claras</th>\n",
       "      <td>1</td>\n",
       "      <td>2.000000</td>\n",
       "      <td>1</td>\n",
       "      <td>100.000000</td>\n",
       "    </tr>\n",
       "    <tr>\n",
       "      <th>aguas de lindoia</th>\n",
       "      <td>1</td>\n",
       "      <td>21.000000</td>\n",
       "      <td>23</td>\n",
       "      <td>4.347826</td>\n",
       "    </tr>\n",
       "    <tr>\n",
       "      <th>agudos</th>\n",
       "      <td>1</td>\n",
       "      <td>11.000000</td>\n",
       "      <td>16</td>\n",
       "      <td>6.250000</td>\n",
       "    </tr>\n",
       "    <tr>\n",
       "      <th>aimores</th>\n",
       "      <td>1</td>\n",
       "      <td>2.000000</td>\n",
       "      <td>10</td>\n",
       "      <td>10.000000</td>\n",
       "    </tr>\n",
       "  </tbody>\n",
       "</table>\n",
       "<p>1299 rows × 4 columns</p>\n",
       "</div>"
      ],
      "text/plain": [
       "                  late_orders  avg_late_days  total_orders  late_percentage\n",
       "customer_city                                                              \n",
       "sao paulo                 942       5.718684         15540         6.061776\n",
       "rio de janeiro            780      12.074359          6882        11.333915\n",
       "salvador                  208       9.043269          1245        16.706827\n",
       "belo horizonte            166       6.108434          2773         5.986296\n",
       "porto alegre              158       9.082278          1379        11.457578\n",
       "...                       ...            ...           ...              ...\n",
       "aguai                       1       7.000000            10        10.000000\n",
       "aguas claras                1       2.000000             1       100.000000\n",
       "aguas de lindoia            1      21.000000            23         4.347826\n",
       "agudos                      1      11.000000            16         6.250000\n",
       "aimores                     1       2.000000            10        10.000000\n",
       "\n",
       "[1299 rows x 4 columns]"
      ]
     },
     "execution_count": 29,
     "metadata": {},
     "output_type": "execute_result"
    }
   ],
   "source": [
    "\n",
    "total_orders_by_city = df_costumer_orders.groupby(\"customer_city\").size().rename(\"total_orders\").to_frame()\n",
    "\n",
    "# Calcular el tiempo medio de días que se pasan de la fecha estimada\n",
    "late_orders[\"avg_late_days\"] = (\n",
    "    df_costumer_orders[\n",
    "        df_costumer_orders[\"order_delivered_customer_date\"] > df_costumer_orders[\"order_estimated_delivery_date\"]\n",
    "    ]\n",
    "    .assign(\n",
    "        late_days=lambda x: (\n",
    "            x[\"order_delivered_customer_date\"] - x[\"order_estimated_delivery_date\"]\n",
    "        ).dt.days\n",
    "    )\n",
    "    .groupby(\"customer_city\")[\"late_days\"]\n",
    "    .mean()\n",
    ")\n",
    "\n",
    "# Combinar los datos de pedidos totales y pedidos tardíos\n",
    "late_orders = late_orders.join(total_orders_by_city)\n",
    "\n",
    "# Calcular el porcentaje de pedidos tardíos\n",
    "late_orders[\"late_percentage\"] = (late_orders[\"late_orders\"] / late_orders[\"total_orders\"]) * 100\n",
    "\n",
    "late_orders"
   ]
  },
  {
   "cell_type": "code",
   "execution_count": 30,
   "id": "05fc5616",
   "metadata": {},
   "outputs": [
    {
     "data": {
      "image/png": "[encoded data removed]",
      "text/plain": [
       "<Figure size 1000x600 with 1 Axes>"
      ]
     },
     "metadata": {},
     "output_type": "display_data"
    }
   ],
   "source": [
    "import matplotlib.pyplot as plt\n",
    "\n",
    "# Seleccionar las ciudades con mayor cantidad de pedidos tardíos\n",
    "top_late_orders = late_orders.sort_values(by=\"late_orders\", ascending=False).head(10)\n",
    "\n",
    "# Crear el gráfico\n",
    "fig, ax = plt.subplots(figsize=(10, 6))\n",
    "top_late_orders[\"late_orders\"].plot(kind=\"bar\", ax=ax, color=\"red\", alpha=0.8)\n",
    "\n",
    "# Añadir etiquetas y título\n",
    "ax.set_title(\"Top 10 Ciudades con Mayor Cantidad de Pedidos Tardíos\", fontsize=14)\n",
    "ax.set_xlabel(\"Ciudad\", fontsize=12)\n",
    "ax.set_ylabel(\"Cantidad de Pedidos Tardíos\", fontsize=12)\n",
    "ax.set_xticklabels(top_late_orders.index, rotation=45, ha=\"right\")\n",
    "\n",
    "# Añadir porcentaje de pedidos tardíos como texto encima de las barras\n",
    "for i, (city, row) in enumerate(top_late_orders.iterrows()):\n",
    "    ax.text(i, row[\"late_orders\"], f\"{row['late_percentage']:.1f}%\", ha=\"center\", va=\"bottom\", fontsize=10)\n",
    "\n",
    "# añadir significdo de porcentaje a la leyenda\n",
    "ax.legend([\"Cantidad de Pedidos Tardíos\"], loc=\"upper right\", fontsize=10)\n",
    "\n",
    "# Calcular el porcentaje promedio de pedidos tardíos\n",
    "avg_late_percentage = late_orders[\"late_percentage\"].mean()\n",
    "\n",
    "plt.tight_layout()\n",
    "plt.show()"
   ]
  },
  {
   "cell_type": "code",
   "execution_count": 31,
   "id": "087897c7",
   "metadata": {},
   "outputs": [
    {
     "data": {
      "image/png": "[encoded data removed]",
      "text/plain": [
       "<Figure size 1000x600 with 1 Axes>"
      ]
     },
     "metadata": {},
     "output_type": "display_data"
    }
   ],
   "source": [
    "# Crear un DataFrame con los datos necesarios\n",
    "stacked_data = late_orders[[\"late_orders\", \"total_orders\", \"late_percentage\", \"avg_late_days\"]].copy()\n",
    "stacked_data[\"on_time_orders\"] = (\n",
    "    stacked_data[\"total_orders\"] - stacked_data[\"late_orders\"]\n",
    ")\n",
    "\n",
    "# Seleccionar las ciudades con mayor cantidad de pedidos totales\n",
    "top_cities = stacked_data.sort_values(by=\"total_orders\", ascending=False).head(10)\n",
    "\n",
    "# Crear el gráfico de barras apiladas\n",
    "fig, ax = plt.subplots(figsize=(10, 6))\n",
    "top_cities[[\"late_orders\", \"on_time_orders\"]].plot(\n",
    "    kind=\"bar\", stacked=True, ax=ax, color=[\"red\", \"green\"], alpha=0.8\n",
    ")\n",
    "\n",
    "# Añadir etiquetas y título\n",
    "ax.set_title(\"Comparación de Pedidos Tardíos vs Totales por Ciudad\", fontsize=14)\n",
    "ax.set_xlabel(\"Ciudad\", fontsize=12)\n",
    "ax.set_ylabel(\"Cantidad de Pedidos\", fontsize=12)\n",
    "ax.set_xticklabels(top_cities.index, rotation=45, ha=\"right\")\n",
    "ax.legend([\"Pedidos Tardíos\", \"Pedidos a Tiempo\"], fontsize=10)\n",
    "\n",
    "# Añadir porcentaje de pedidos tardíos como texto encima de las barras, color rojo\n",
    "for i, (city, row) in enumerate(top_cities.iterrows()):\n",
    "    ax.text(\n",
    "        i,\n",
    "        row[\"late_orders\"] + row[\"on_time_orders\"],\n",
    "        f\"{row['late_percentage']:.1f}%\",\n",
    "        ha=\"center\",\n",
    "        va=\"bottom\",\n",
    "        fontsize=10,\n",
    "        color=\"red\",\n",
    "    )\n",
    "\n",
    "\n",
    "\n",
    "plt.tight_layout()\n",
    "plt.show()"
   ]
  },
  {
   "cell_type": "code",
   "execution_count": 32,
   "id": "9edf5783",
   "metadata": {
    "vscode": {
     "languageId": "ruby"
    }
   },
   "outputs": [
    {
     "data": {
      "image/png": "[encoded data removed]",
      "text/plain": [
       "<Figure size 1000x600 with 1 Axes>"
      ]
     },
     "metadata": {},
     "output_type": "display_data"
    }
   ],
   "source": [
    "# Seleccionar las ciudades con mayor promedio de días de retraso\n",
    "top_avg_late_days = late_orders.sort_values(by=\"avg_late_days\", ascending=False).head(10)\n",
    "\n",
    "# Crear el gráfico\n",
    "fig, ax = plt.subplots(figsize=(10, 6))\n",
    "top_avg_late_days[\"avg_late_days\"].plot(kind=\"barh\", ax=ax, color=\"orange\", alpha=0.8)\n",
    "\n",
    "# Añadir etiquetas y título\n",
    "ax.set_title(\"Top 10 Ciudades con Mayor Promedio de Días de Retraso\", fontsize=14)\n",
    "ax.set_xlabel(\"Promedio de Días de Retraso\", fontsize=12)\n",
    "ax.set_ylabel(\"Ciudad\", fontsize=12)\n",
    "\n",
    "plt.tight_layout()\n",
    "plt.show()\n"
   ]
  },
  {
   "cell_type": "code",
   "execution_count": 33,
   "id": "ec5ff344",
   "metadata": {
    "vscode": {
     "languageId": "ruby"
    }
   },
   "outputs": [
    {
     "data": {
      "image/png": "[encoded data removed]",
      "text/plain": [
       "<Figure size 1000x600 with 1 Axes>"
      ]
     },
     "metadata": {},
     "output_type": "display_data"
    }
   ],
   "source": [
    "# Agrupar los datos por mes y contar los pedidos tardíos\n",
    "late_orders_over_time = (\n",
    "    df_costumer_orders[\n",
    "        df_costumer_orders[\"order_delivered_customer_date\"]\n",
    "        > df_costumer_orders[\"order_estimated_delivery_date\"]\n",
    "    ]\n",
    "    .groupby(df_costumer_orders[\"order_purchase_timestamp\"].dt.to_period(\"M\"))\n",
    "    .size()\n",
    "    .rename(\"late_orders\")\n",
    "    .to_frame()\n",
    ")\n",
    "\n",
    "# Convertir el índice a datetime para facilitar el gráfico\n",
    "late_orders_over_time.index = late_orders_over_time.index.to_timestamp()\n",
    "\n",
    "# Crear el gráfico de línea\n",
    "fig, ax = plt.subplots(figsize=(10, 6))\n",
    "late_orders_over_time[\"late_orders\"].plot(ax=ax, color=\"blue\", marker=\"o\", linestyle=\"-\")\n",
    "\n",
    "# Añadir etiquetas y título\n",
    "ax.set_title(\"Evolución de Pedidos Tardíos a lo Largo del Tiempo\", fontsize=14)\n",
    "ax.set_xlabel(\"Fecha\", fontsize=12)\n",
    "ax.set_ylabel(\"Cantidad de Pedidos Tardíos\", fontsize=12)\n",
    "\n",
    "plt.tight_layout()\n",
    "plt.show()"
   ]
  },
  {
   "cell_type": "code",
   "execution_count": 34,
   "id": "b55b3ba9",
   "metadata": {},
   "outputs": [
    {
     "data": {
      "image/png": "[encoded data removed]",
      "text/plain": [
       "<Figure size 1000x800 with 1 Axes>"
      ]
     },
     "metadata": {},
     "output_type": "display_data"
    }
   ],
   "source": [
    "import seaborn as sns\n",
    "\n",
    "# Agrupar los datos por estado y calcular la cantidad de pedidos tardíos\n",
    "late_orders_by_state = (\n",
    "    df_costumer_orders[\n",
    "        df_costumer_orders[\"order_delivered_customer_date\"]\n",
    "        > df_costumer_orders[\"order_estimated_delivery_date\"]\n",
    "    ]\n",
    "    .groupby(\"customer_state\")\n",
    "    .size()\n",
    "    .rename(\"late_orders\")\n",
    "    .to_frame()\n",
    ")\n",
    "\n",
    "late_orders_by_state[\"late_percentage\"] = (\n",
    "    late_orders_by_state[\"late_orders\"] / late_orders_by_state[\"late_orders\"].sum()\n",
    ") * 100\n",
    "\n",
    "# Filtrar estados con porcentaje mayor al 2%\n",
    "filtered_late_orders_by_state = late_orders_by_state[\n",
    "    late_orders_by_state[\"late_percentage\"] > 2\n",
    "]\n",
    "\n",
    "# Crear un gráfico de pastel para mostrar la distribución de pedidos tardíos por estado\n",
    "fig, ax = plt.subplots(figsize=(10, 8))\n",
    "filtered_late_orders_by_state[\"late_percentage\"].plot(\n",
    "    kind=\"pie\", ax=ax, autopct=\"%1.1f%%\", startangle=90, colormap=\"tab20\"\n",
    ")\n",
    "\n",
    "# Añadir título\n",
    "ax.set_title(\"Distribución de Pedidos Tardíos por Estado\", fontsize=14)\n",
    "ax.set_ylabel(\"\")  # Eliminar etiqueta del eje Y\n",
    "\n",
    "plt.tight_layout()\n",
    "plt.show()"
   ]
  },
  {
   "cell_type": "markdown",
   "id": "341a0218",
   "metadata": {},
   "source": [
    "### Posibles hipótesis a testear. Añadir resultados a análisis\n",
    "| Hipótesis                          | Dataset involucrado                                | Métrica a calcular                          |\n",
    "| ---------------------------------- | -------------------------------------------------- | ------------------------------------------- |\n",
    "| 🕓 Tiempo de despacho del vendedor | `olist_order_items`                                | `shipping_limit_date` - `order_approved_at` |\n",
    "| 📦 Tipo de producto                | `olist_products`                                   | Categoría del producto                      |\n",
    "| 🧑‍💼 Vendedor específico          | `olist_sellers`                                    | ID de vendedor y su % de pedidos retrasados |\n",
    "| 💳 Método de pago (menos probable) | `olist_order_payments`                             | Ver si hay alguna correlación extraña       |\n"
   ]
  },
  {
   "cell_type": "markdown",
   "id": "7f84e161",
   "metadata": {},
   "source": [
    "1. Tiempo de despacho del vendedor"
   ]
  },
  {
   "cell_type": "code",
   "execution_count": 35,
   "id": "863339e1",
   "metadata": {
    "vscode": {
     "languageId": "ruby"
    }
   },
   "outputs": [
    {
     "name": "stdout",
     "output_type": "stream",
     "text": [
      "Tiempo promedio de despacho para pedidos a tiempo: 10.10 horas\n",
      "Tiempo promedio de despacho para pedidos tardíos: 12.31 horas\n"
     ]
    }
   ],
   "source": [
    "# Calcular el tiempo de despacho del vendedor\n",
    "df_costumer_orders[\"dispatch_time\"] = (\n",
    "    df_costumer_orders[\"order_approved_at\"] - df_costumer_orders[\"order_purchase_timestamp\"]\n",
    ").dt.total_seconds() / 3600  # Convertir a horas\n",
    "\n",
    "# Separar los pedidos en entregados a tiempo y entregados tarde\n",
    "on_time_orders = df_costumer_orders[\n",
    "    df_costumer_orders[\"order_delivered_customer_date\"]\n",
    "    <= df_costumer_orders[\"order_estimated_delivery_date\"]\n",
    "]\n",
    "late_orders = df_costumer_orders[\n",
    "    df_costumer_orders[\"order_delivered_customer_date\"]\n",
    "    > df_costumer_orders[\"order_estimated_delivery_date\"]\n",
    "]\n",
    "\n",
    "# Calcular el tiempo promedio de despacho para cada grupo\n",
    "avg_dispatch_time_on_time = on_time_orders[\"dispatch_time\"].mean()\n",
    "avg_dispatch_time_late = late_orders[\"dispatch_time\"].mean()\n",
    "\n",
    "print(f\"Tiempo promedio de despacho para pedidos a tiempo: {avg_dispatch_time_on_time:.2f} horas\")\n",
    "print(f\"Tiempo promedio de despacho para pedidos tardíos: {avg_dispatch_time_late:.2f} horas\")"
   ]
  },
  {
   "cell_type": "markdown",
   "id": "ffd830d4",
   "metadata": {},
   "source": [
    "2. Tipo de producto"
   ]
  },
  {
   "cell_type": "code",
   "execution_count": 38,
   "id": "93077c04",
   "metadata": {},
   "outputs": [
    {
     "name": "stdout",
     "output_type": "stream",
     "text": [
      "product_category_name\n",
      "casa_conforto_2                   16.666667\n",
      "moveis_colchao_e_estofado         13.157895\n",
      "audio                             12.637363\n",
      "fashion_underwear_e_moda_praia    12.213740\n",
      "artigos_de_natal                  11.764706\n",
      "                                    ...    \n",
      "cds_dvds_musicais                       NaN\n",
      "fashion_roupa_infanto_juvenil           NaN\n",
      "la_cuisine                              NaN\n",
      "pc_gamer                                NaN\n",
      "seguros_e_servicos                      NaN\n",
      "Length: 73, dtype: float64\n"
     ]
    }
   ],
   "source": [
    "# Cargar el dataset de items de pedido\n",
    "order_items = pd.read_csv('./Olist_Data/olist_order_items_dataset.csv')\n",
    "\n",
    "# Combinar los datos de items de pedido con los productos\n",
    "df_items_with_products = pd.merge(\n",
    "    order_items,\n",
    "    products,\n",
    "    on='product_id',  # Relacionar por la columna 'product_id'\n",
    "    how='inner'\n",
    ")\n",
    "\n",
    "# Combinar los datos de items con los pedidos\n",
    "df_orders_with_items_products = pd.merge(\n",
    "    df_costumer_orders,\n",
    "    df_items_with_products,\n",
    "    on='order_id',  # Relacionar por la columna 'order_id'\n",
    "    how='inner'\n",
    ")\n",
    "\n",
    "# Filtrar los pedidos tardíos\n",
    "late_orders_with_products = df_orders_with_items_products[\n",
    "    df_orders_with_items_products[\"order_delivered_customer_date\"]\n",
    "    > df_orders_with_items_products[\"order_estimated_delivery_date\"]\n",
    "]\n",
    "\n",
    "# Calcular el porcentaje de pedidos tardíos por categoría de producto\n",
    "late_percentage_by_category = (\n",
    "    late_orders_with_products.groupby(\"product_category_name\").size()\n",
    "    / df_orders_with_items_products.groupby(\"product_category_name\").size()\n",
    ") * 100\n",
    "\n",
    "# Ordenar por porcentaje de pedidos tardíos\n",
    "late_percentage_by_category = late_percentage_by_category.sort_values(ascending=False)\n",
    "\n",
    "# Mostrar los resultados\n",
    "print(late_percentage_by_category)\n"
   ]
  },
  {
   "cell_type": "markdown",
   "id": "aa2a9ccc",
   "metadata": {},
   "source": [
    "3. Vendedor específico  "
   ]
  },
  {
   "cell_type": "code",
   "execution_count": null,
   "id": "b5ab77fb",
   "metadata": {
    "vscode": {
     "languageId": "ruby"
    }
   },
   "outputs": [
    {
     "data": {
      "application/vnd.microsoft.datawrangler.viewer.v0+json": {
       "columns": [
        {
         "name": "seller_id",
         "rawType": "object",
         "type": "string"
        },
        {
         "name": "late_orders",
         "rawType": "int64",
         "type": "integer"
        },
        {
         "name": "total_orders",
         "rawType": "int64",
         "type": "integer"
        },
        {
         "name": "late_percentage",
         "rawType": "float64",
         "type": "float"
        }
       ],
       "conversionMethod": "pd.DataFrame",
       "ref": "45e5cf54-c53c-4a83-b5ae-1e7040f2cbe3",
       "rows": [
        [
         "04843805947f0fc584fc1969b6e50fe7",
         "2",
         "2",
         "100.0"
        ],
        [
         "3da38366e7bd9baf6369071f782ecdf0",
         "1",
         "1",
         "100.0"
        ],
        [
         "f524ad65d7e0f1daab730ef2d2e86196",
         "2",
         "2",
         "100.0"
        ],
        [
         "05ca864204d09595ae591b93ea9cf93d",
         "1",
         "1",
         "100.0"
        ],
        [
         "efb628aa07c8ca93d7db0d85b91a4f5a",
         "1",
         "1",
         "100.0"
        ],
        [
         "80ceebb4ee9b31afb6c6a916a574a1e2",
         "1",
         "1",
         "100.0"
        ],
        [
         "781a66c0d89e30814d49fe8b5e14cd07",
         "1",
         "1",
         "100.0"
        ],
        [
         "7c462184585ae80bd6e5774c62ce50f2",
         "2",
         "2",
         "100.0"
        ],
        [
         "8e670472e453ba34a379331513d6aab1",
         "1",
         "1",
         "100.0"
        ],
        [
         "df683dfda87bf71ac3fc63063fba369d",
         "1",
         "1",
         "100.0"
        ],
        [
         "2a73cba571d90c694b7caca072ccf6ce",
         "2",
         "2",
         "100.0"
        ],
        [
         "2a50b7ee5aebecc6fd0ff9784a4747d6",
         "2",
         "2",
         "100.0"
        ],
        [
         "ebe3dabc4955c9b0d695e7bda38bf5c3",
         "1",
         "1",
         "100.0"
        ],
        [
         "edf3fabebcc20f7463cc9c53da932ea8",
         "1",
         "1",
         "100.0"
        ],
        [
         "8629a7efec1aab257e58cda559f03ba7",
         "1",
         "1",
         "100.0"
        ],
        [
         "344223b2a90784f64136a8a5da012e7f",
         "1",
         "1",
         "100.0"
        ],
        [
         "685b870da5b52a710782c9c0fefbeb5b",
         "2",
         "2",
         "100.0"
        ],
        [
         "da2782c804606d2a5d8e1760dbb3e7ec",
         "1",
         "1",
         "100.0"
        ],
        [
         "6d04126aba80df143fd038e711b8fd96",
         "1",
         "1",
         "100.0"
        ],
        [
         "d8dd176509baa37f359644d082bf7f7b",
         "2",
         "2",
         "100.0"
        ],
        [
         "d1aa1ec0839dcab73a6161130eb1f94a",
         "1",
         "1",
         "100.0"
        ],
        [
         "bc8c8d665ec4664d286be0d521722b19",
         "1",
         "1",
         "100.0"
        ],
        [
         "bcd2d7510d58e293f20fad6438c1b314",
         "1",
         "1",
         "100.0"
        ],
        [
         "c611f4ce9ce875bcc063fa97fd4d7d12",
         "1",
         "1",
         "100.0"
        ],
        [
         "c13ef0cfbe42f190780f621ce81f2234",
         "1",
         "1",
         "100.0"
        ],
        [
         "19484c79cef6c062cb177aa4ef2fcc3c",
         "1",
         "1",
         "100.0"
        ],
        [
         "1b4b28463457a256e9a784ebe2a8f630",
         "1",
         "1",
         "100.0"
        ],
        [
         "be1e9e378700cecaa4ebf71433d7915c",
         "2",
         "2",
         "100.0"
        ],
        [
         "535bf14f36346c7f59d87cece104d70c",
         "1",
         "1",
         "100.0"
        ],
        [
         "51a04a8a6bdcb23deccc82b0b80742cf",
         "1",
         "1",
         "100.0"
        ],
        [
         "ca5832c6960267b71041f74bb39e8b12",
         "1",
         "1",
         "100.0"
        ],
        [
         "d1a5cc844736958c11b8efab9a2b4c87",
         "1",
         "1",
         "100.0"
        ],
        [
         "c7b7db6c8f3c64a7cc1afa634db21d50",
         "1",
         "1",
         "100.0"
        ],
        [
         "13d95f0f6f73943d4ceffad0fc2cd32c",
         "1",
         "1",
         "100.0"
        ],
        [
         "154bdf805377afea75a3bd158e9eab10",
         "1",
         "1",
         "100.0"
        ],
        [
         "9bf11dfc0bec77e5a23028043c3c5a8f",
         "1",
         "1",
         "100.0"
        ],
        [
         "63704069d9bd3a75c1cf59babe56004a",
         "1",
         "1",
         "100.0"
        ],
        [
         "1f2eebc0e970fd3c463e4f5d9652687a",
         "1",
         "1",
         "100.0"
        ],
        [
         "6524b847b982cd56bb5d4b02b776ee42",
         "2",
         "2",
         "100.0"
        ],
        [
         "20f0aeea30bc3b8c4420be8ced4226c0",
         "1",
         "1",
         "100.0"
        ],
        [
         "9ef932e837d8b7f392c0bfee9d359dc2",
         "1",
         "1",
         "100.0"
        ],
        [
         "9da15f4a4ea758d9eeb49000dbe57e22",
         "1",
         "1",
         "100.0"
        ],
        [
         "9ac75591b69c3402684b6ce0310f22ee",
         "1",
         "1",
         "100.0"
        ],
        [
         "984c273121e743dd14767befe6cb17f5",
         "1",
         "1",
         "100.0"
        ],
        [
         "9c57bc60cfad5ee62d35d3f1ce4593a1",
         "1",
         "1",
         "100.0"
        ],
        [
         "586a871d4f1221763fddb6ceefdeb95e",
         "2",
         "2",
         "100.0"
        ],
        [
         "271b8923c6a549e02d3c9fd1f8c0422b",
         "1",
         "1",
         "100.0"
        ],
        [
         "8d92f3ea807b89465643c219455e7369",
         "7",
         "8",
         "87.5"
        ],
        [
         "ec8463980a4e0ea9f8517aea1ed0c419",
         "6",
         "8",
         "75.0"
        ],
        [
         "e5bd51692380fd8cabb19b756b95e714",
         "2",
         "3",
         "66.66666666666666"
        ]
       ],
       "shape": {
        "columns": 3,
        "rows": 1390
       }
      },
      "text/html": [
       "<div>\n",
       "<style scoped>\n",
       "    .dataframe tbody tr th:only-of-type {\n",
       "        vertical-align: middle;\n",
       "    }\n",
       "\n",
       "    .dataframe tbody tr th {\n",
       "        vertical-align: top;\n",
       "    }\n",
       "\n",
       "    .dataframe thead th {\n",
       "        text-align: right;\n",
       "    }\n",
       "</style>\n",
       "<table border=\"1\" class=\"dataframe\">\n",
       "  <thead>\n",
       "    <tr style=\"text-align: right;\">\n",
       "      <th></th>\n",
       "      <th>late_orders</th>\n",
       "      <th>total_orders</th>\n",
       "      <th>late_percentage</th>\n",
       "    </tr>\n",
       "    <tr>\n",
       "      <th>seller_id</th>\n",
       "      <th></th>\n",
       "      <th></th>\n",
       "      <th></th>\n",
       "    </tr>\n",
       "  </thead>\n",
       "  <tbody>\n",
       "    <tr>\n",
       "      <th>04843805947f0fc584fc1969b6e50fe7</th>\n",
       "      <td>2</td>\n",
       "      <td>2</td>\n",
       "      <td>100.000000</td>\n",
       "    </tr>\n",
       "    <tr>\n",
       "      <th>3da38366e7bd9baf6369071f782ecdf0</th>\n",
       "      <td>1</td>\n",
       "      <td>1</td>\n",
       "      <td>100.000000</td>\n",
       "    </tr>\n",
       "    <tr>\n",
       "      <th>f524ad65d7e0f1daab730ef2d2e86196</th>\n",
       "      <td>2</td>\n",
       "      <td>2</td>\n",
       "      <td>100.000000</td>\n",
       "    </tr>\n",
       "    <tr>\n",
       "      <th>05ca864204d09595ae591b93ea9cf93d</th>\n",
       "      <td>1</td>\n",
       "      <td>1</td>\n",
       "      <td>100.000000</td>\n",
       "    </tr>\n",
       "    <tr>\n",
       "      <th>efb628aa07c8ca93d7db0d85b91a4f5a</th>\n",
       "      <td>1</td>\n",
       "      <td>1</td>\n",
       "      <td>100.000000</td>\n",
       "    </tr>\n",
       "    <tr>\n",
       "      <th>...</th>\n",
       "      <td>...</td>\n",
       "      <td>...</td>\n",
       "      <td>...</td>\n",
       "    </tr>\n",
       "    <tr>\n",
       "      <th>725c32fa80c2faacc4fc88450d27314e</th>\n",
       "      <td>1</td>\n",
       "      <td>93</td>\n",
       "      <td>1.075269</td>\n",
       "    </tr>\n",
       "    <tr>\n",
       "      <th>d12c926d74ceff0a90a21184466ce161</th>\n",
       "      <td>1</td>\n",
       "      <td>99</td>\n",
       "      <td>1.010101</td>\n",
       "    </tr>\n",
       "    <tr>\n",
       "      <th>530ec6109d11eaaf87999465c6afee01</th>\n",
       "      <td>1</td>\n",
       "      <td>104</td>\n",
       "      <td>0.961538</td>\n",
       "    </tr>\n",
       "    <tr>\n",
       "      <th>822166ed1e47908f7cfb49946d03c726</th>\n",
       "      <td>1</td>\n",
       "      <td>108</td>\n",
       "      <td>0.925926</td>\n",
       "    </tr>\n",
       "    <tr>\n",
       "      <th>0bae85eb84b9fb3bd773911e89288d54</th>\n",
       "      <td>1</td>\n",
       "      <td>146</td>\n",
       "      <td>0.684932</td>\n",
       "    </tr>\n",
       "  </tbody>\n",
       "</table>\n",
       "<p>1390 rows × 3 columns</p>\n",
       "</div>"
      ],
      "text/plain": [
       "                                  late_orders  total_orders  late_percentage\n",
       "seller_id                                                                   \n",
       "04843805947f0fc584fc1969b6e50fe7            2             2       100.000000\n",
       "3da38366e7bd9baf6369071f782ecdf0            1             1       100.000000\n",
       "f524ad65d7e0f1daab730ef2d2e86196            2             2       100.000000\n",
       "05ca864204d09595ae591b93ea9cf93d            1             1       100.000000\n",
       "efb628aa07c8ca93d7db0d85b91a4f5a            1             1       100.000000\n",
       "...                                       ...           ...              ...\n",
       "725c32fa80c2faacc4fc88450d27314e            1            93         1.075269\n",
       "d12c926d74ceff0a90a21184466ce161            1            99         1.010101\n",
       "530ec6109d11eaaf87999465c6afee01            1           104         0.961538\n",
       "822166ed1e47908f7cfb49946d03c726            1           108         0.925926\n",
       "0bae85eb84b9fb3bd773911e89288d54            1           146         0.684932\n",
       "\n",
       "[1390 rows x 3 columns]"
      ]
     },
     "execution_count": 41,
     "metadata": {},
     "output_type": "execute_result"
    }
   ],
   "source": [
    "# Calcular el número de pedidos tardíos por vendedor\n",
    "late_orders_by_seller = (\n",
    "    late_orders_with_products.groupby(\"seller_id\").size().rename(\"late_orders\").to_frame()\n",
    ")\n",
    "\n",
    "# Calcular el número total de pedidos por vendedor\n",
    "total_orders_by_seller = (\n",
    "    df_orders_with_items_products.groupby(\"seller_id\").size().rename(\"total_orders\").to_frame()\n",
    ")\n",
    "\n",
    "# Combinar los datos de pedidos tardíos y totales\n",
    "seller_analysis = late_orders_by_seller.join(total_orders_by_seller, how=\"inner\")\n",
    "\n",
    "# Calcular el porcentaje de pedidos tardíos por vendedor\n",
    "seller_analysis[\"late_percentage\"] = (seller_analysis[\"late_orders\"] / seller_analysis[\"total_orders\"]) * 100\n",
    "\n",
    "# Ordenar por porcentaje de pedidos tardíos\n",
    "seller_analysis = seller_analysis.sort_values(by=\"late_percentage\", ascending=False)\n",
    "\n",
    "# Mostrar los resultados\n",
    "seller_analysis\n",
    "\n"
   ]
  },
  {
   "cell_type": "code",
   "execution_count": null,
   "id": "600bf372",
   "metadata": {
    "vscode": {
     "languageId": "ruby"
    }
   },
   "outputs": [
    {
     "data": {
      "application/vnd.microsoft.datawrangler.viewer.v0+json": {
       "columns": [
        {
         "name": "seller_id",
         "rawType": "object",
         "type": "string"
        },
        {
         "name": "late_orders",
         "rawType": "int64",
         "type": "integer"
        },
        {
         "name": "total_orders",
         "rawType": "int64",
         "type": "integer"
        },
        {
         "name": "late_percentage",
         "rawType": "float64",
         "type": "float"
        }
       ],
       "conversionMethod": "pd.DataFrame",
       "ref": "9df38f02-face-4097-8216-db4ee9146318",
       "rows": [
        [
         "b1b3948701c5c72445495bd161b83a4c",
         "9",
         "18",
         "50.0"
        ],
        [
         "2709af9587499e95e803a6498a5a56e9",
         "23",
         "47",
         "48.93617021276596"
        ],
        [
         "c42fd8e4d47dfb18ce5222f2dd7752f9",
         "5",
         "11",
         "45.45454545454545"
        ],
        [
         "fce62094ffe6a4009188ec44e681dfdd",
         "5",
         "11",
         "45.45454545454545"
        ],
        [
         "c37b2059d4f90d4feead554e5246565e",
         "7",
         "16",
         "43.75"
        ],
        [
         "38e6dada03429a47197d5d584d793b41",
         "5",
         "12",
         "41.66666666666667"
        ],
        [
         "02d35243ea2e497335cd0f076b45675d",
         "6",
         "16",
         "37.5"
        ],
        [
         "f76a3b1349b6df1ee875d1f3fa4340f0",
         "9",
         "24",
         "37.5"
        ],
        [
         "c990d6cf976a5718aaedc539f383ab88",
         "4",
         "11",
         "36.36363636363637"
        ],
        [
         "26e2c91ef821e1ff8985f408788fe35b",
         "5",
         "14",
         "35.714285714285715"
        ],
        [
         "b0b346d3a89f5eb4c2968af3f083cd43",
         "4",
         "12",
         "33.33333333333333"
        ],
        [
         "973f21788dfab357250f69a8dcb7ddee",
         "7",
         "21",
         "33.33333333333333"
        ],
        [
         "e64d65bc8dbec2accda90c58de5d1246",
         "4",
         "12",
         "33.33333333333333"
        ],
        [
         "cb41bfbcbda0aea354a834ab222f9a59",
         "4",
         "12",
         "33.33333333333333"
        ],
        [
         "ede0c03645598cdfc63ca8237acbe73d",
         "16",
         "50",
         "32.0"
        ],
        [
         "821fb029fc6e495ca4f08a35d51e53a5",
         "9",
         "29",
         "31.03448275862069"
        ],
        [
         "8bd0e3abda539b9479c4b44a691be1ec",
         "4",
         "13",
         "30.76923076923077"
        ],
        [
         "0417b067eeab773d2f7061a726dc477f",
         "4",
         "13",
         "30.76923076923077"
        ],
        [
         "7210cd29727d674c00741e5e387b3ccd",
         "4",
         "13",
         "30.76923076923077"
        ],
        [
         "5b581417df4480f632484ba681e53944",
         "4",
         "13",
         "30.76923076923077"
        ],
        [
         "d9e7e7778b32987280a6f2cb9a39c57d",
         "4",
         "13",
         "30.76923076923077"
        ],
        [
         "54965bbe3e4f07ae045b90b0b8541f52",
         "26",
         "86",
         "30.23255813953488"
        ],
        [
         "7f152321c60a266edc53af1925ef96c1",
         "6",
         "20",
         "30.0"
        ],
        [
         "835f0f7810c76831d6c7d24c7a646d4d",
         "15",
         "50",
         "30.0"
        ],
        [
         "c4d51195486dc781531876a7d00453d8",
         "5",
         "17",
         "29.411764705882355"
        ],
        [
         "c1ed9e3daf6154542826a6996af0fb8c",
         "5",
         "17",
         "29.411764705882355"
        ],
        [
         "02dcd3e8e25bee036e32512bcf175493",
         "5",
         "17",
         "29.411764705882355"
        ],
        [
         "5f67c6082caacb26e431a7b17940cece",
         "4",
         "14",
         "28.57142857142857"
        ],
        [
         "7fc87cc3e89b3d1d5cabdca32f8485aa",
         "4",
         "14",
         "28.57142857142857"
        ],
        [
         "4e5725ba188db8252977a4f0227bd462",
         "7",
         "25",
         "28.000000000000004"
        ],
        [
         "822bad9bc42b51213ba522fe87b7ab5d",
         "5",
         "18",
         "27.77777777777778"
        ],
        [
         "d32e3909cfb714fb2a6cb092c85b9c5f",
         "3",
         "11",
         "27.27272727272727"
        ],
        [
         "054694fa03fe82cec4b7551487331d74",
         "6",
         "22",
         "27.27272727272727"
        ],
        [
         "ad781527c93d00d89a11eecd9dcad7c1",
         "12",
         "44",
         "27.27272727272727"
        ],
        [
         "656591be56071d4c9ef4e5fee78a578a",
         "3",
         "11",
         "27.27272727272727"
        ],
        [
         "2a1348e9addc1af5aaa619b1a3679d6b",
         "15",
         "55",
         "27.27272727272727"
        ],
        [
         "91f0eec23d4a61d7d7caeefa3f0ad1ca",
         "3",
         "11",
         "27.27272727272727"
        ],
        [
         "eb4df17aed01d918c65f0f8d650900c0",
         "3",
         "11",
         "27.27272727272727"
        ],
        [
         "2953ce3a88f5e3c3b696d77fc9e4c8eb",
         "4",
         "15",
         "26.666666666666668"
        ],
        [
         "13074f016982ff2bd6c58ced8682f000",
         "4",
         "15",
         "26.666666666666668"
        ],
        [
         "3a1a1fec38dd360f15fc912e821e169d",
         "4",
         "15",
         "26.666666666666668"
        ],
        [
         "71039d19d4303bf9054d69e9a9236699",
         "10",
         "38",
         "26.31578947368421"
        ],
        [
         "a44fb5a447105f8469bdf16bf9159f25",
         "5",
         "19",
         "26.31578947368421"
        ],
        [
         "2e1a7d075abe038c1b2743005fe42ff1",
         "6",
         "23",
         "26.08695652173913"
        ],
        [
         "66e0557ecc2b4dbea057e93f215f68d8",
         "8",
         "31",
         "25.806451612903224"
        ],
        [
         "6039e27294dc75811c0d8a39069f52c0",
         "19",
         "75",
         "25.333333333333336"
        ],
        [
         "e504a4e2efaa45cbff7e268a2c58c956",
         "3",
         "12",
         "25.0"
        ],
        [
         "59cd88080b93f3c18508673122d26169",
         "3",
         "12",
         "25.0"
        ],
        [
         "ef990a83bbea832f36ebe81376335aa8",
         "11",
         "44",
         "25.0"
        ],
        [
         "b19f3ca2ea475913750f25a5c37c8d8f",
         "6",
         "24",
         "25.0"
        ]
       ],
       "shape": {
        "columns": 3,
        "rows": 80
       }
      },
      "text/html": [
       "<div>\n",
       "<style scoped>\n",
       "    .dataframe tbody tr th:only-of-type {\n",
       "        vertical-align: middle;\n",
       "    }\n",
       "\n",
       "    .dataframe tbody tr th {\n",
       "        vertical-align: top;\n",
       "    }\n",
       "\n",
       "    .dataframe thead th {\n",
       "        text-align: right;\n",
       "    }\n",
       "</style>\n",
       "<table border=\"1\" class=\"dataframe\">\n",
       "  <thead>\n",
       "    <tr style=\"text-align: right;\">\n",
       "      <th></th>\n",
       "      <th>late_orders</th>\n",
       "      <th>total_orders</th>\n",
       "      <th>late_percentage</th>\n",
       "    </tr>\n",
       "    <tr>\n",
       "      <th>seller_id</th>\n",
       "      <th></th>\n",
       "      <th></th>\n",
       "      <th></th>\n",
       "    </tr>\n",
       "  </thead>\n",
       "  <tbody>\n",
       "    <tr>\n",
       "      <th>b1b3948701c5c72445495bd161b83a4c</th>\n",
       "      <td>9</td>\n",
       "      <td>18</td>\n",
       "      <td>50.000000</td>\n",
       "    </tr>\n",
       "    <tr>\n",
       "      <th>2709af9587499e95e803a6498a5a56e9</th>\n",
       "      <td>23</td>\n",
       "      <td>47</td>\n",
       "      <td>48.936170</td>\n",
       "    </tr>\n",
       "    <tr>\n",
       "      <th>c42fd8e4d47dfb18ce5222f2dd7752f9</th>\n",
       "      <td>5</td>\n",
       "      <td>11</td>\n",
       "      <td>45.454545</td>\n",
       "    </tr>\n",
       "    <tr>\n",
       "      <th>fce62094ffe6a4009188ec44e681dfdd</th>\n",
       "      <td>5</td>\n",
       "      <td>11</td>\n",
       "      <td>45.454545</td>\n",
       "    </tr>\n",
       "    <tr>\n",
       "      <th>c37b2059d4f90d4feead554e5246565e</th>\n",
       "      <td>7</td>\n",
       "      <td>16</td>\n",
       "      <td>43.750000</td>\n",
       "    </tr>\n",
       "    <tr>\n",
       "      <th>...</th>\n",
       "      <td>...</td>\n",
       "      <td>...</td>\n",
       "      <td>...</td>\n",
       "    </tr>\n",
       "    <tr>\n",
       "      <th>ecccfa2bb93b34a3bf033cc5d1dcdc69</th>\n",
       "      <td>4</td>\n",
       "      <td>19</td>\n",
       "      <td>21.052632</td>\n",
       "    </tr>\n",
       "    <tr>\n",
       "      <th>9f50216bfd01913736a55a11b55ea842</th>\n",
       "      <td>4</td>\n",
       "      <td>19</td>\n",
       "      <td>21.052632</td>\n",
       "    </tr>\n",
       "    <tr>\n",
       "      <th>cfe94489ddd337d1e29e12f2a7205d10</th>\n",
       "      <td>5</td>\n",
       "      <td>24</td>\n",
       "      <td>20.833333</td>\n",
       "    </tr>\n",
       "    <tr>\n",
       "      <th>712e6ed8aa4aa1fa65dab41fed5737e4</th>\n",
       "      <td>18</td>\n",
       "      <td>87</td>\n",
       "      <td>20.689655</td>\n",
       "    </tr>\n",
       "    <tr>\n",
       "      <th>d13e50eaa47b4cbe9eb81465865d8cfc</th>\n",
       "      <td>14</td>\n",
       "      <td>69</td>\n",
       "      <td>20.289855</td>\n",
       "    </tr>\n",
       "  </tbody>\n",
       "</table>\n",
       "<p>80 rows × 3 columns</p>\n",
       "</div>"
      ],
      "text/plain": [
       "                                  late_orders  total_orders  late_percentage\n",
       "seller_id                                                                   \n",
       "b1b3948701c5c72445495bd161b83a4c            9            18        50.000000\n",
       "2709af9587499e95e803a6498a5a56e9           23            47        48.936170\n",
       "c42fd8e4d47dfb18ce5222f2dd7752f9            5            11        45.454545\n",
       "fce62094ffe6a4009188ec44e681dfdd            5            11        45.454545\n",
       "c37b2059d4f90d4feead554e5246565e            7            16        43.750000\n",
       "...                                       ...           ...              ...\n",
       "ecccfa2bb93b34a3bf033cc5d1dcdc69            4            19        21.052632\n",
       "9f50216bfd01913736a55a11b55ea842            4            19        21.052632\n",
       "cfe94489ddd337d1e29e12f2a7205d10            5            24        20.833333\n",
       "712e6ed8aa4aa1fa65dab41fed5737e4           18            87        20.689655\n",
       "d13e50eaa47b4cbe9eb81465865d8cfc           14            69        20.289855\n",
       "\n",
       "[80 rows x 3 columns]"
      ]
     },
     "execution_count": 43,
     "metadata": {},
     "output_type": "execute_result"
    }
   ],
   "source": [
    "# Filtrar vendedores con más pedidos y un porcentaje de pedidos tardíos mayor al 20%\n",
    "top_sellers_with_high_late_percentage = seller_analysis[\n",
    "    (seller_analysis[\"late_percentage\"] > 20) & (seller_analysis[\"total_orders\"] > 10)\n",
    "]\n",
    "\n",
    "top_sellers_with_high_late_percentage"
   ]
  },
  {
   "cell_type": "code",
   "execution_count": 44,
   "id": "363e28ad",
   "metadata": {},
   "outputs": [
    {
     "name": "stdout",
     "output_type": "stream",
     "text": [
      "payment_type\n",
      "boleto         8.613021\n",
      "credit_card    7.724461\n",
      "debit_card     7.717462\n",
      "voucher        6.441558\n",
      "not_defined         NaN\n",
      "dtype: float64\n"
     ]
    }
   ],
   "source": [
    "# Load the payment dataset\n",
    "order_payments = pd.read_csv('./Olist_Data/olist_order_payments_dataset.csv')\n",
    "\n",
    "# Merge payment data with customer orders\n",
    "df_orders_with_payments = pd.merge(\n",
    "    df_costumer_orders,\n",
    "    order_payments,\n",
    "    on='order_id',\n",
    "    how='inner'\n",
    ")\n",
    "\n",
    "# Filter late orders\n",
    "late_orders_with_payments = df_orders_with_payments[\n",
    "    df_orders_with_payments[\"order_delivered_customer_date\"]\n",
    "    > df_orders_with_payments[\"order_estimated_delivery_date\"]\n",
    "]\n",
    "\n",
    "# Calculate the percentage of late orders by payment type\n",
    "late_percentage_by_payment_type = (\n",
    "    late_orders_with_payments.groupby(\"payment_type\").size()\n",
    "    / df_orders_with_payments.groupby(\"payment_type\").size()\n",
    ") * 100\n",
    "\n",
    "# Sort by percentage of late orders\n",
    "late_percentage_by_payment_type = late_percentage_by_payment_type.sort_values(ascending=False)\n",
    "\n",
    "# Display the results\n",
    "print(late_percentage_by_payment_type)"
   ]
  }
 ],
 "metadata": {
  "kernelspec": {
   "display_name": "Python 3",
   "language": "python",
   "name": "python3"
  },
  "language_info": {
   "codemirror_mode": {
    "name": "ipython",
    "version": 3
   },
   "file_extension": ".py",
   "mimetype": "text/x-python",
   "name": "python",
   "nbconvert_exporter": "python",
   "pygments_lexer": "ipython3",
   "version": "3.11.9"
  }
 },
 "nbformat": 4,
 "nbformat_minor": 5
}
